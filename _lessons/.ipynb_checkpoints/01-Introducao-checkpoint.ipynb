{
 "cells": [
  {
   "cell_type": "markdown",
   "metadata": {},
   "source": [
    "---\n",
    "layout: page\n",
    "title: Introdução\n",
    "nav_order: 1\n",
    "---\n",
    "[<img src=\"https://raw.githubusercontent.com/flaviovdf/fcd/master/assets/colab_favicon_small.png\" style=\"float: right;\">](https://colab.research.google.com/github/flaviovdf/icd-bradesco/blob/master/_lessons/01-Introducao.ipynb)\n",
    "\n",
    "# Aula 1 - Introdução\n",
    "{: .no_toc .mb-2 }\n",
    "\n",
    "Apresentando o curso.\n",
    "{: .fs-6 .fw-300 }\n",
    "\n",
    "{: .no_toc .text-delta }\n",
    "Resultados Esperados\n",
    "\n",
    "1. Entender um pouco de onde veio a ciência de dados\n",
    "1. Receber as tarefas de configuração do ambiente\n",
    "1. Ficar motivado!\n",
    "\n",
    "\n",
    "## Imports Básicos\n",
    "\n",
    "Código em Python geralmente começa com alguns `imports`. Pense nisso como funcionalidade que precisamos para realizar tarefas de ciências de dados. Geralmente dizemos que estamos importando uma biblioteca. Por exemplo, precisamos tratar com dados? Usamos uma biblioteca para isto. Precisamos plotar gráficos, outra biblioteca.\n",
    "\n",
    "1. Biblioteca de plots, `matplotlib`\n",
    "1. Biblioteca de vetores, `numpy`\n",
    "1. Biblioteca de leitra de dados, `pandas`.\n",
    "\n",
    "O foco do nosso curso não é ensinar programação. Python é uma linguagem poderosa tem uma sintaxe simples, que vamos explorar para ciência de dados apenas."
   ]
  },
  {
   "cell_type": "code",
   "execution_count": 1,
   "metadata": {
    "execution": {
     "iopub.execute_input": "2025-03-31T21:39:05.681452Z",
     "iopub.status.busy": "2025-03-31T21:39:05.681055Z",
     "iopub.status.idle": "2025-03-31T21:39:06.278844Z",
     "shell.execute_reply": "2025-03-31T21:39:06.278534Z"
    },
    "slideshow": {
     "slide_type": "skip"
    }
   },
   "outputs": [],
   "source": [
    "# Imports. Geralmente você vai apenas copiar essas linhas.\n",
    "# Não mude elas!!\n",
    "import pandas as pd\n",
    "import numpy as np\n",
    "\n",
    "import matplotlib.pyplot as plt\n",
    "plt.style.use('ggplot')"
   ]
  },
  {
   "cell_type": "code",
   "execution_count": 2,
   "metadata": {
    "execution": {
     "iopub.execute_input": "2025-03-31T21:39:06.280611Z",
     "iopub.status.busy": "2025-03-31T21:39:06.280427Z",
     "iopub.status.idle": "2025-03-31T21:39:06.282930Z",
     "shell.execute_reply": "2025-03-31T21:39:06.282604Z"
    }
   },
   "outputs": [],
   "source": [
    "# Ignore este código, porém execute o mesmo\n",
    "\n",
    "from IPython.display import IFrame\n",
    "def mostrar_historico():\n",
    "    src = 'https://docs.google.com/presentation/d/e/2PACX-1vRJnOqqZO6OMMad28fQWCSYG8Nqv2tUxxJ7t8q_aTLoOqw63za0YSK7kzpIYEJNsOzcXqnOg4oMincJ/embed?start=false&loop=false&delayms=3000'\n",
    "    width = 960\n",
    "    height = 569\n",
    "    return IFrame(src, width, height)"
   ]
  },
  {
   "cell_type": "markdown",
   "metadata": {
    "slideshow": {
     "slide_type": "slide"
    }
   },
   "source": [
    "## Introdução à Ciência de Dados (Bradesco) - 2025.1"
   ]
  },
  {
   "cell_type": "markdown",
   "metadata": {
    "slideshow": {
     "slide_type": "slide"
    }
   },
   "source": [
    "### Bem-vindo ao curso de Ciência de Dados (Bradesco)! 👋\n",
    "- Hoje terermos uma visita guiada à ciência de dados.\n",
    "- **Objetivo:** Aprender programação e estatísticas suficientes para fazer ciência de dados.\n",
    "  - Estatísticas sem muita matemática, principalmente simulação.\n",
    "  - Estabelece as bases para todos os outros cursos do curso."
   ]
  },
  {
   "cell_type": "markdown",
   "metadata": {
    "slideshow": {
     "slide_type": "slide"
    }
   },
   "source": [
    "### Agenda\n",
    "\n",
    "- Pessoal do curso.\n",
    "  - Professores e Monitores\n",
    "- O que é ciência de dados?\n",
    "- Como será esse curso?\n",
    "- Demonstração com base na literatura."
   ]
  },
  {
   "cell_type": "markdown",
   "metadata": {
    "slideshow": {
     "slide_type": "slide"
    }
   },
   "source": [
    "## Equipe do curso"
   ]
  },
  {
   "cell_type": "markdown",
   "metadata": {
    "slideshow": {
     "slide_type": "slide"
    }
   },
   "source": [
    "### Professor: Flavio Vinicius Diniz de Figueiredo (DCC)\n",
    "\n",
    "<center><img src='https://raw.githubusercontent.com/flaviovdf/fcd/master/assets/01-Introducao/images/flavio.jpg' width=240></center>\n",
    "\n",
    "- BSc em Ciência da Computação pela UFCG\n",
    "- Mestrado e Doutorado em Ciência da Computação pela UFMG\n",
    "  - Estudos parciais na Carnegie Mellon University e University of Brittish Columbia\n",
    "- Já ensinou mais de 20 turmas de Introdução à Ciência de Dados no DCC/UFMG\n",
    "- Membro da comissão fundadora do Bacharelado em Ciência de Dados UFMG\n",
    "- Planejou a grade do BCD, assim como de outras disciplinas de Ciência de Dados\n",
    "- Membro fundado do [labUAI](uai.science) e do [Mosaic](https://lucas-rezende.github.io/)"
   ]
  },
  {
   "cell_type": "markdown",
   "metadata": {
    "slideshow": {
     "slide_type": "slide"
    }
   },
   "source": [
    "### Monitores\n",
    "\n",
    "Além disso, temos uma equipe de monitores para ajudar vocês.\n",
    "\n",
    "- **02 Monitores de Graduação**: Victor Gabriel e Raphael Araújo\n",
    "\n",
    " <img src=\"https://media-gru2-1.cdn.whatsapp.net/v/t61.24694-24/459020198_841225374761962_8482307839179591717_n.jpg?ccb=11-4&oh=01_Q5AaIRm0iPrPA76ADjSPIRdEol1A1Q73qz0-gvS4zps4bnKX&oe=67F80522&_nc_sid=5e03e0&_nc_cat=107\" alt=\"Raphael\" width=\"200\" height=\"200\"> \n",
    "\n",
    " <img src=\"https://media-gru2-1.cdn.whatsapp.net/v/t61.24694-24/328757837_1134571970948875_5217356771791416006_n.jpg?ccb=11-4&oh=01_Q5AaIYxAKIL9Q_7csJ222CqPl6aOTh3bhFx17gP7kQAY4Z0k&oe=67F80B0B&_nc_sid=5e03e0&_nc_cat=109\" alt=\"Victor\" width=\"200\" height=\"200\"> "
   ]
  },
  {
   "cell_type": "markdown",
   "metadata": {
    "slideshow": {
     "slide_type": "slide"
    }
   },
   "source": [
    "## O que é “ciência de dados”? 🤔"
   ]
  },
  {
   "cell_type": "markdown",
   "metadata": {
    "slideshow": {
     "slide_type": "slide"
    }
   },
   "source": [
    "![](https://raw.githubusercontent.com/flaviovdf/fcd/master/assets/01-Introducao/images/what-is-ds.png)"
   ]
  },
  {
   "cell_type": "markdown",
   "metadata": {
    "slideshow": {
     "slide_type": "slide"
    }
   },
   "source": [
    "### O que é \"ciência de dados\"?\n",
    "\n",
    "A ciência de dados trata de **tirar conclusões úteis a partir de dados usando computação**. Ao longo do semestre, abordaremos vários aspectos da ciência de dados:"
   ]
  },
  {
   "cell_type": "markdown",
   "metadata": {
    "slideshow": {
     "slide_type": "fragment"
    }
   },
   "source": [
    "- Primeiros meses: usando Python para **explorar** dados.\n",
    "- Muita visualização 📈📊 e “manipulação de dados”, utilizando ferramentas padrão da indústria."
   ]
  },
  {
   "cell_type": "markdown",
   "metadata": {
    "slideshow": {
     "slide_type": "fragment"
    }
   },
   "source": [
    "- Próximas dois meses: use dados para **inferir** sobre uma população, dada apenas uma amostra.\n",
    "- Confie fortemente na simulação, em vez de fórmulas."
   ]
  },
  {
   "cell_type": "markdown",
   "metadata": {
    "slideshow": {
     "slide_type": "fragment"
    }
   },
   "source": [
    "- Últimas duas semanas: use dados do passado para **prever** o que pode acontecer no futuro.\n",
    "- Um gostinho de aprendizado de máquina 🤖."
   ]
  },
  {
   "cell_type": "markdown",
   "metadata": {
    "slideshow": {
     "slide_type": "slide"
    }
   },
   "source": [
    "### A ciência de dados é mais relevante do que nunca 🤧\n",
    "\n",
    "Passamos alguns anos analisando gráficos como este:\n",
    "\n",
    "![](https://raw.githubusercontent.com/flaviovdf/fcd/master/assets/01-Introducao/images/dengue.png)"
   ]
  },
  {
   "cell_type": "markdown",
   "metadata": {
    "slideshow": {
     "slide_type": "slide"
    }
   },
   "source": [
    "### Também pode ser divertido!\n",
    "\n",
    "![](https://raw.githubusercontent.com/flaviovdf/fcd/master/assets/01-Introducao/images/rapper_vocab.jpg)\n",
    "\n",
    "Do artigo de [The Pudding](https://pudding.cool/) em [The Pudding](https://pudding.cool/)."
   ]
  },
  {
   "cell_type": "markdown",
   "metadata": {},
   "source": [
    "### De onde vem a \"ciência de dados\"?\n",
    "\n",
    "[Slides](https://docs.google.com/presentation/d/1-Uz9QE3B0fbN3zHRl3DAuyf0WeKvNCmAhHpKGZDS8Lg)"
   ]
  },
  {
   "cell_type": "code",
   "execution_count": 3,
   "metadata": {
    "execution": {
     "iopub.execute_input": "2025-03-31T21:39:06.284688Z",
     "iopub.status.busy": "2025-03-31T21:39:06.284478Z",
     "iopub.status.idle": "2025-03-31T21:39:06.288184Z",
     "shell.execute_reply": "2025-03-31T21:39:06.287899Z"
    }
   },
   "outputs": [
    {
     "data": {
      "text/html": [
       "\n",
       "        <iframe\n",
       "            width=\"960\"\n",
       "            height=\"569\"\n",
       "            src=\"https://docs.google.com/presentation/d/e/2PACX-1vRJnOqqZO6OMMad28fQWCSYG8Nqv2tUxxJ7t8q_aTLoOqw63za0YSK7kzpIYEJNsOzcXqnOg4oMincJ/embed?start=false&loop=false&delayms=3000\"\n",
       "            frameborder=\"0\"\n",
       "            allowfullscreen\n",
       "            \n",
       "        ></iframe>\n",
       "        "
      ],
      "text/plain": [
       "<IPython.lib.display.IFrame at 0x7fb75573ac60>"
      ]
     },
     "execution_count": 3,
     "metadata": {},
     "output_type": "execute_result"
    }
   ],
   "source": [
    "mostrar_historico()"
   ]
  },
  {
   "cell_type": "markdown",
   "metadata": {
    "slideshow": {
     "slide_type": "slide"
    }
   },
   "source": [
    "## Logística do curso"
   ]
  },
  {
   "cell_type": "markdown",
   "metadata": {
    "slideshow": {
     "slide_type": "slide"
    }
   },
   "source": [
    "### Site do curso\n",
    "\n",
    "O site do curso é o seu ponro de partida para a parte de **estudo**.\n",
    "\n",
    "<center><h3><a href=\"https://flaviovdf.io/icd-bradesco\">https://flaviovdf.io/icd-bradesco</a></h3></center>\n",
    "\n",
    "- No site tem o material base do curso\n",
    "- Perguntas para estudos para as provas\n",
    "- Calendário e outras informações\n",
    "- Porém, comunicação, tarefas e entregas são via [Moodle](https://ead.dcc.ufmg.br)!"
   ]
  },
  {
   "cell_type": "markdown",
   "metadata": {
    "slideshow": {
     "slide_type": "slide"
    }
   },
   "source": [
    "### Ambientes da UFMG\n",
    "\n",
    "- **Moodle**: fórum de perguntas e respostas. Todos os anúncios serão feitos aqui.\n",
    "- **Teams**: onde serão nossas aulas"
   ]
  },
  {
   "cell_type": "markdown",
   "metadata": {
    "slideshow": {
     "slide_type": "slide"
    }
   },
   "source": [
    "### Aulas\n",
    "\n",
    "- As aulas serão remotas!!\n",
    "- A participação nunca será exigida, mas é incentivada. \n",
    "- Os slides/código da aula serão vinculados ao site do curso, tanto em formato de código \"executável\" quanto em arquivo HTML (✏️), que você pode salvar como PDF e anotar em seu tablet.\n",
    "- Tentaremos tornar as palestras envolventes."
   ]
  },
  {
   "cell_type": "markdown",
   "metadata": {
    "slideshow": {
     "slide_type": "slide"
    }
   },
   "source": [
    "### Tarefas de Laboratório (Moodle) e Monitoria\n",
    "\n",
    "- Os laboratórios referem-se a **tarefas de programação**, que são uma parte obrigatória do curso e ajudam você a desenvolver fluência em Python e no trabalho com dados.\n",
    "- Ao trabalhar nos laboratórios, você poderá executar **testes de autoavaliação** que informam se suas respostas estão corretas.\n",
    "- Para laboratórios, se você passar em todos os testes obterá 100%!\n",
    "- Você deve enviar laboratórios individualmente, mas pode discutir ideias com outras pessoas (sem compartilhamento de código).\n",
    "\n",
    "As sessões de monitoria servem para que você pratique as **ideias** do curso.\n",
    "\n",
    "1. Os conjuntos de problemas serão publicados no Moodle\n",
    "2. Você tem um prazo de entrega (alguns dias)\n",
    "3. Você tenta resolver, não consegue? Busca a monitoria!!\n",
    "\n",
    "**A participação não é obrigatória, porém ajuda!!**"
   ]
  },
  {
   "cell_type": "markdown",
   "metadata": {
    "slideshow": {
     "slide_type": "slide"
    }
   },
   "source": [
    "### Cronograma do Curso\n",
    "\n",
    "- No moodle"
   ]
  },
  {
   "cell_type": "markdown",
   "metadata": {
    "slideshow": {
     "slide_type": "slide"
    }
   },
   "source": [
    "### Leituras e recursos\n",
    "\n",
    "- Faremos leituras de duas fontes. As leituras de cada palestra serão publicadas na página inicial do curso.\n",
    "- [Learning Data Science](https://learningds.org/intro.html)\n",
    "- [Computational and Inferential Thinking (CIT)](https://inferencialthinking.com)"
   ]
  },
  {
   "cell_type": "markdown",
   "metadata": {
    "slideshow": {
     "slide_type": "slide"
    }
   },
   "source": [
    "### Colaboração\n",
    "\n",
    "#### Fazer perguntas é altamente recomendável!\n",
    "- Discuta todas as questões entre si\n",
    "- Envie tarefas de laboratório individualmente, mas você pode trabalhar com outras pessoas."
   ]
  },
  {
   "cell_type": "markdown",
   "metadata": {
    "slideshow": {
     "slide_type": "slide"
    }
   },
   "source": [
    "## Demo de Ciência de Dados"
   ]
  },
  {
   "cell_type": "markdown",
   "metadata": {},
   "source": [
    "Abrimos arquivos com \"open\". A função print serve para imprimir dados. Note como no notebook tudo ocorre no browser."
   ]
  },
  {
   "cell_type": "code",
   "execution_count": 4,
   "metadata": {
    "execution": {
     "iopub.execute_input": "2025-03-31T21:39:06.310877Z",
     "iopub.status.busy": "2025-03-31T21:39:06.310692Z",
     "iopub.status.idle": "2025-03-31T21:39:06.313354Z",
     "shell.execute_reply": "2025-03-31T21:39:06.313042Z"
    }
   },
   "outputs": [
    {
     "name": "stdout",
     "output_type": "stream",
     "text": [
      "The Project Gutenberg EBook of Dom Casmurro, by Machado de Assis\n",
      "\n"
     ]
    }
   ],
   "source": [
    "livro = open('dom-casmurro.txt')\n",
    "print(livro.readline())"
   ]
  },
  {
   "cell_type": "markdown",
   "metadata": {},
   "source": [
    "Além do mais agora estamos fazendo uso de um laço for. Note que não temos chaves nem ; em nenhum momento. Blocos de código em Python são definidos pela identação."
   ]
  },
  {
   "cell_type": "code",
   "execution_count": 5,
   "metadata": {
    "execution": {
     "iopub.execute_input": "2025-03-31T21:39:06.314904Z",
     "iopub.status.busy": "2025-03-31T21:39:06.314682Z",
     "iopub.status.idle": "2025-03-31T21:39:06.317688Z",
     "shell.execute_reply": "2025-03-31T21:39:06.317319Z"
    }
   },
   "outputs": [],
   "source": [
    "livro = open('dom-casmurro.txt')\n",
    "livro_inteiro = livro.readlines()"
   ]
  },
  {
   "cell_type": "code",
   "execution_count": 6,
   "metadata": {
    "execution": {
     "iopub.execute_input": "2025-03-31T21:39:06.319070Z",
     "iopub.status.busy": "2025-03-31T21:39:06.318882Z",
     "iopub.status.idle": "2025-03-31T21:39:06.321185Z",
     "shell.execute_reply": "2025-03-31T21:39:06.320900Z"
    }
   },
   "outputs": [
    {
     "data": {
      "text/plain": [
       "'que sabe do todos. Comtudo, uma promessa de tantos annos... Mas, que\\n'"
      ]
     },
     "execution_count": 6,
     "metadata": {},
     "output_type": "execute_result"
    }
   ],
   "source": [
    "livro_inteiro[256] # acessando uma linha do livro"
   ]
  },
  {
   "cell_type": "code",
   "execution_count": 7,
   "metadata": {
    "execution": {
     "iopub.execute_input": "2025-03-31T21:39:06.322604Z",
     "iopub.status.busy": "2025-03-31T21:39:06.322394Z",
     "iopub.status.idle": "2025-03-31T21:39:06.330807Z",
     "shell.execute_reply": "2025-03-31T21:39:06.330491Z"
    }
   },
   "outputs": [
    {
     "name": "stdout",
     "output_type": "stream",
     "text": [
      "--D. Gloria, a senhora persiste na ideia de metter o nosso Bentinho no\n",
      "\n",
      "me parece bonito que o nosso Bentinho ande mettido nos cantos com a\n",
      "\n",
      "--É um modo de falar. Em segredinhos, sempre juntos. Bentinho quasi\n",
      "\n",
      "nada que faça desconfiar. Basta a edade; Bentinho mal tem quinze annos.\n",
      "\n",
      "Capitú fez quatorze á semana passada; são dous creançolas. Não se\n",
      "\n",
      "principal. Bentinho ha de satisfazer os desejos de sua mãe. E depois\n",
      "\n",
      "Capitú e eu. Ella servia de sacristão, e alteravamos o ritual, no\n",
      "\n",
      "Com que então eu amava Capitú, e Capitú a mim? Realmente, andava cosido\n",
      "\n",
      "a de sempre. Capitú chamava-me ás vezes bonito, mocetão, uma flòr;\n",
      "\n",
      "lindos que os meus. Então Capitú abanava a cabeça com uma grande\n",
      "\n",
      "Capitú um dia notou a differença, dizendo que os della eram mais\n",
      "\n",
      "adverti que era phenomeno recente accordar com o pensamento em Capitú,\n",
      "\n",
      "Bondade, nem as demais Virtudes eternas. Em amava Capitú! Capitú\n",
      "\n",
      "Capitú.\n",
      "\n",
      "--Capitú!\n",
      "\n",
      "uma porta de communicação mandada rasgar por minha mãe, quando Capitú\n",
      "\n",
      "do outro com muitas mesuras. Quando as bonecas de Capitú adoeciam,\n",
      "\n",
      "exclamava Capitú. Então eu coçava o queixo, como o doutor, e acabava\n",
      "\n",
      "--Capitú!\n",
      "\n",
      "e entrei. Capitú estava ao pé do muro fronteiro, voltada para elle,\n",
      "\n",
      "de perto, e dei um passo. Capitú agarrou-me, mas, ou por temer que\n",
      "\n",
      "Voltei-me para ella; Capitú tinha os olhos no chão. Ergueu-os logo,\n",
      "\n",
      "Era o pae de Capitú, que estava á porta dos fundos, ao pé da mulher.\n",
      "\n",
      "Soltámos as mãos depressa, e ficámos atrapalhados. Capitú foi ao muro,\n",
      "\n",
      "--Capitú!\n",
      "\n",
      "Capitú riscava sobre o riscado, para apagar bem o escripto. Padua saiu\n",
      "\n",
      "Olhei para um pé do sabugueiro que ficava perto; Capitú respondeu por\n",
      "\n",
      "--Estavamos, sim, senhor, mas Bentinho ri logo, não aguenta.\n",
      "\n",
      "legitimar a resposta de Capitú. Esta, cançada de esperar, desviou\n",
      "\n",
      "artificialmente tarde. Capitú, após duas voltas, foi ter com a mãe,\n",
      "\n",
      "pelo ceu nem pela terra. Meu desejo era ir atraz de Capitú e falar-lhe\n",
      "\n",
      "Pae nem mãe foram ter comnosco, quando Capitú e eu, na sala de visitas,\n",
      "\n",
      "falavamos do seminario. Com os olhos em mim, Capitú queria saber que\n",
      "\n",
      "Capitú, a principio não disse nada. Recolheu os olhos, metteu-os\n",
      "\n",
      "faltasse na hora da morte se fosse para o seminario. Capitú não parecia\n",
      "\n",
      "Fiquei aturdido. Capitú gostava tanto de minha mãe, e minha mãe della,\n",
      "\n",
      "de ouro e um livro de _Horas..._ Quiz defendel-a, mas Capitú não me\n",
      "\n",
      "a Capitú do costume, mas quasi. Estava seria, sem afflicção, falava\n",
      "\n",
      "Capitú reflectia. A reflexão não era cousa rara nella, e conheciam-se\n",
      "\n",
      "lhe pude dar toda a significação. A attenção de Capitú estava agora\n",
      "\n",
      "antes, que peguei da mão della e apertei-a muito. Capitú deixou-se ir,\n",
      "\n",
      "--Não, respondeu Capitú.\n",
      "\n",
      "Comprei-as, mas tive de as comer sósinho; Capitú recusou. Vi que, em\n",
      "\n",
      "Como vês, Capitú, aos quatorze annos, tinha já ideias atrevidas,\n",
      "\n",
      "a Europa, Capitú, se pudesse cumpril-o, não me faria embarcar no\n",
      "\n",
      "--Não importa, continuou Capitú; dirá agora outra cousa. Elle gosta\n",
      "\n",
      "--Não acho. não, Capitú.\n",
      "\n",
      "falar a José Dias nos termos propostos. Capitú repetiu-os, accentuando\n",
      "\n",
      "recommendações de Capitú: «Preciso falar-lhe, _sem falta_, amanhã;\n",
      "\n",
      "muito, um meio termo. «E Capitú tem razão, pensei, a casa é minha, elle\n",
      "\n",
      "ter seguido o conselho de Capitú. Então, como eu quizesse ir para\n",
      "\n",
      "Capitú. Não disse mal della; ao contrario insinuou-me que podia vir a\n",
      "\n",
      "tempo, modificou os elogios a Capitú, e até lhe fez algumas criticas,\n",
      "\n",
      "Capitú, apesar daquelles olhos que o diabo lhe deu... Você já reparou\n",
      "\n",
      "--Pois que outra cousa, Bentinho?\n",
      "\n",
      "«José Dias, preciso metter Bentinho no seminario.»\n",
      "\n",
      "--Estamos a bordo, Bentinho, estamos a bordo!\n",
      "\n",
      "adiante, mas eu pensei em Capitú e no seminario, tirei dous vintens do\n",
      "\n",
      "confiaria. esta ideia a Capitú. «Sua Majestade pedindo, mamãe cede,»\n",
      "\n",
      "Bentinho?\n",
      "\n",
      "tempo. Viva a medicina! Iria contar estas esperanças a Capitú.\n",
      "\n",
      "--Bem, cedo ao nosso Bentinho, suspirou o pae de Capitú.\n",
      "\n",
      "--Bem, cedo ao nosso Bentinho, suspirou o pae de Capitú.\n",
      "\n",
      "de minha mãe, doeu-me mais, e, quando emfim pensei em Capitú, senti um\n",
      "\n",
      "A imagem de Capitú ia commigo, e a minha imaginação, assim como lhe\n",
      "\n",
      "As curiosidades de Capitú.\n",
      "\n",
      "Capitú preferia tudo ao seminario. Em vez de ficar abatida com a\n",
      "\n",
      "--Não, Bentinho, deixemos o imperador socegado, replicou; fiquemos por\n",
      "\n",
      "Capitú quiz que lhe repetisse as respostas todas do aggregado, as\n",
      "\n",
      "que a outra, mas a optima dellas é nenhuma. Capitú era Capitú, isto é,\n",
      "\n",
      "Era tambem mais curiosa. As curiosidades de Capitú dão para um\n",
      "\n",
      "lingua de meninas. Capitú confessou-me um dia que esta razão accendeu\n",
      "\n",
      "--Anda apanhar um capotinho, Capitú, dizia-lhe elle.\n",
      "\n",
      "Capitú obedecia e jogava com facilidade, com attenção, não sei se diga\n",
      "\n",
      "Um dia, Capitú quiz saber o que eram as figuras da sala de visitas. O\n",
      "\n",
      "Capitú não achava bonito o perfil de Cesar, mas as acções citadas por\n",
      "\n",
      "A perola de Cesar accendia os olhos de Capitú. Foi nessa occasião\n",
      "\n",
      "--São joias viuvas, como eu, Capitú.\n",
      "\n",
      "curiosidades de Capitú, mobilias antigas, alfaias velhas, costumes,\n",
      "\n",
      "Tudo era materia ás curiosidades de Capitú. Caso houve, porém, no qual\n",
      "\n",
      "--Que tem, tem, interrompeu Capitú. E se não fosse preciso alguem para\n",
      "\n",
      "porém... É um inferno isto! Você teime com elle, Bentinho.\n",
      "\n",
      "--Juro! Deixe ver os olhos, Capitú.\n",
      "\n",
      "sabia, e queria ver se se podiam chamar assim. Capitú deixou-se fitar e\n",
      "\n",
      "dizer o que foram aquelles olhos de Capitú. Não me acode imagem capaz\n",
      "\n",
      "tempo não marcado, agarrei-me definitivamente aos cabellos de Capitú,\n",
      "\n",
      "Capitú deu-me as costas, voltando-se para o espelhinho. Peguei-lhe dos\n",
      "\n",
      "Em vez de ir ao espelho, que pensaes que fez Capitú? Não vos esqueçaes\n",
      "\n",
      "quo estava sentada, de costas para mim. Capitú derreou a cabeça, a tal\n",
      "\n",
      "--Levanta, Capitú!\n",
      "\n",
      "Grande foi a sensação do beijo; Capitú ergueu-se, rapida, eu recuei\n",
      "\n",
      "Quando elles me clarearam, vi que Capitú tinha os seus no chão. Não\n",
      "\n",
      "Ouvimos passos no corredor; era D. Fortunata. Capitú compoz-se\n",
      "\n",
      "--O que, mamãe? Isto? redarguiu Capitú desfazendo as tranças. Ora,\n",
      "\n",
      "Capitú fechava-me os labios. Uma exclamação, um simples artigo, por\n",
      "\n",
      "sentir sómente os beiços de Capitú... Sentia-os estirados, embaixo dos\n",
      "\n",
      "era da mesma opinião. Outra vez senti os beiços de Capitú. Talvez abuso\n",
      "\n",
      "--Prepara-te, Bentinho; tu pódes vir a ser protonotario apostolico.\n",
      "\n",
      "agarrar Capitú, desfazer-lhe as tranças, refazel-as e concluil-as\n",
      "\n",
      "casa de Capitú. Quando alli cheguei, dei com ella na sala, na mesma\n",
      "\n",
      "Capitú recuou um pouco.\n",
      "\n",
      "executal-a; mas ainda que eu conhecesse o texto, as attitudes de Capitú\n",
      "\n",
      "mãe, e disse delle cousas feias e duras. Capitú reflectiu algum tempo,\n",
      "\n",
      "tremulo. Era a ideia com mãos. Quiz puxar as de Capitú, para obrigal-a\n",
      "\n",
      "vontades, e Capitú, que me resistia agora, aproveitaria o gesto para\n",
      "\n",
      "que cançou; mas então foi a vez da bocca. A bocca de Capitú iniciou um\n",
      "\n",
      "Nisto ouvimos bater á porta e falar no corredor. Era o pae de Capitú,\n",
      "\n",
      "«Abre, Nanata! Capitú, abre!» Apparentemente era o mesmo lance da\n",
      "\n",
      "Capitú, antes que o pae acabasse de entrar, fez um gesto inesperado,\n",
      "\n",
      "Capitú, em pé, de costas para mim, inclinada sobre a costura, como a\n",
      "\n",
      "--Mas, Bentinho, que ó protonotario apostolico?\n",
      "\n",
      "dous lances de ha quarenta annos, é para mostrar que Capitú não se\n",
      "\n",
      "porque a filha falava em protonotario apostolico. Capitú repeliu-lhe\n",
      "\n",
      "outro. Cabral ouviu as palavras de Capitú com infinito prazer.\n",
      "\n",
      "--Obrigado, Capitú, muito obrigado; estimo que você goste tambem. Papae\n",
      "\n",
      "A todas as perguntas, Capitú ia respondendo promptamente e bem.\n",
      "\n",
      "da mesma opinião. Capitú, cosida ás saias de minha mãe, não attendia\n",
      "\n",
      "mundo, se acabasse, mas Capitú não me appareceu. Não deixou minha mãe,\n",
      "\n",
      "--Vae com ella, Bentinho, disse minha mãe.\n",
      "\n",
      "--Adeus, Capitú.\n",
      "\n",
      "mas, Capitú que ia depressa, estacou e fez-me signal que voltasse. Não\n",
      "\n",
      "ouvissemos alguma cousa que não entendí bem nem mal. Capitú segredou-me\n",
      "\n",
      "Capitú.\n",
      "\n",
      "de Capitú. Quantas intenções viciosas ha assim que embarcam, a meio\n",
      "\n",
      "Capitú, quando havia chamado minha mãe justamente para confirmal-as;\n",
      "\n",
      "segredinhos com Capitú, como lhe dissera José Dias. Calou-se durante\n",
      "\n",
      "com tanto gosto! Como é que agora...? Não creio, não, Bentinho. E\n",
      "\n",
      "mentir nem faltar, Bentinho; são cousas que não se fazem sem peccado, e\n",
      "\n",
      "Deus que é grande e poderoso, não me deixaria assim, não, Bentinho; eu\n",
      "\n",
      "manha, Bentinho.\n",
      "\n",
      "--Não, não peço. Estás tonto, Bentinho? E como havia de saber que Deus\n",
      "\n",
      "Capitú reflectindo.\n",
      "\n",
      "No dia seguinte fui á casa visinha, logo que pude. Capitú despedia-se\n",
      "\n",
      "atal-o, mas Capitú respondeu que não era preciso, estava boa.\n",
      "\n",
      "Ficámos sós na sala; Capitú continuou a narração da mãe, accrescentando\n",
      "\n",
      "Capitú ouvia-me com attenção sofrega, depois sombria; quando acabei,\n",
      "\n",
      "Mas eu creio que Capitú olhava para dentro de si mesma, emquanto que\n",
      "\n",
      "tornei a olhar para Capitú, vi que não se mexia, e fiquei com tal medo\n",
      "\n",
      "que a sacudi brandamente. Capitú tornou cá para fora e pediu-me que\n",
      "\n",
      "dissimulado, chama-me compassivo; é certo que receiava perder Capitú,\n",
      "\n",
      "que eu reputava certo, ainda que demorado. Capitú reflectia, reflectia,\n",
      "\n",
      "Capitú fez um gesto de impaciencia. Os olhos de ressaca não se mexiam\n",
      "\n",
      "sem que os olhos de ressaca de Capitú deixassem de crescer para mim,\n",
      "\n",
      "a tal ponto que as fizeram esquecer de todo. O erro de Capitú foi\n",
      "\n",
      "normaes, e dar-lhes o movimento do costume. Capitú tornou ao que era,\n",
      "\n",
      "--Não é nada, Bentinho. Pois quem é que ha de dar pancada ou prender\n",
      "\n",
      "--Não, Capitú; você não está brincando; nesta occasião, nenhum de nós\n",
      "\n",
      "o ceu estava coberto. Capitú falou novamente da nossa separação, como\n",
      "\n",
      "buscasse agora razões para animal-a. Capitú, quando não falava, riscava\n",
      "\n",
      "Capitú olhou para mim, mas de um modo que me fez lembrar a definição\n",
      "\n",
      "--Não fale em morrer, Capitú!\n",
      "\n",
      "Capitú teve um risinho descorado e incredulo, e com a taquara escreveu\n",
      "\n",
      "secreta esperança de vel-a atirar-se a mim lavada em lagrimas. Capitú\n",
      "\n",
      "--Pois, sim, Capitú, você ouvirá a minha missa nova, mas com uma\n",
      "\n",
      "--Não, Bentinho, disse, seria esperar muito tempo; você não vae ser\n",
      "\n",
      "do autor. Todavia, não ha nada mais exacto. Foi assim mesmo que Capitú\n",
      "\n",
      "primeiro filho, o primeiro filho de Capitú, o casamento della com\n",
      "\n",
      "estupido. Capitú sorria; eu via o primeiro filho brincando no chão...\n",
      "\n",
      "para ir embora, mas nem me levantei, nem sei se iria. Capitú fitou-me\n",
      "\n",
      "agora as culpas para si, e pediamos reciprocamente perdão. Capitú\n",
      "\n",
      "--Não foi por nada, respondeu Capitú, depois de alguma hesitação...\n",
      "\n",
      "A explicação agradou-me; não tinha outra. Se, como penso, Capitú\n",
      "\n",
      "verdade não saiu, ficou em casa, no coração de Capitú, cochilando o\n",
      "\n",
      "Capitú não hesitou em jurar, e até lhe vi as faces vermelhas de prazer.\n",
      "\n",
      "--Tudo póde ser, Bentinho. Você póde achar outra moça que lhe queira,\n",
      "\n",
      "--Mas eu tambem juro! Juro, Capitú, juro por Deus Nosso Senhor que só\n",
      "\n",
      "Capitú temia a nossa separação, mas acabou acceitando este alvitre, que\n",
      "\n",
      "vocação ecclesiastica do nosso Bentinho se manifesta clara e decisiva.\n",
      "\n",
      "Capitú deu-me egual conselho, quando minha mãe lhe annunciou a minha\n",
      "\n",
      "qualquer cousa. Entrou a achar em Capitú uma porção de graças novas, de\n",
      "\n",
      "e, depois de algumas hesitações, resolveu dar-lh'a. Os olhos de Capitú,\n",
      "\n",
      "era leval-os a Capitú, ao sair; mas tive ideia de dal-o ao pae, a filha\n",
      "\n",
      "«Benção, nhõ Bentinho! não se esqueça de sua Joanna! Sua Miquelina fica\n",
      "\n",
      "Quem era a flòr? Capitú, naturalmente; mas podia ser a virtude, a\n",
      "\n",
      "melhor não ser Capitú; seria a justiça. Era mais proprio dizer que, na\n",
      "\n",
      "Eis aqui outro seminarista. Chamava-se Ezequiel de Souza Escobar. Era\n",
      "\n",
      "Eis aqui outro seminarista. Chamava-se Ezequiel de Souza Escobar. Era\n",
      "\n",
      "catholicos. Escobar tinha uma irmã, que era um anjo, dizia elle.\n",
      "\n",
      "Escobar contava-me historias della, interessantes, todas as quaes\n",
      "\n",
      "que me fariam capaz de acabar casando com ella, se não fosse Capitú.\n",
      "\n",
      "pousados. Escobar veiu abrindo a alma toda, desde a porta da rua até\n",
      "\n",
      "chaves nem fechaduras, bastava empurral-as, e Escobar empurrou-as e\n",
      "\n",
      "soneto, as meias, as ligas, o seminarista Escobar e vários outros. Vás\n",
      "\n",
      "--Mostrar a verdade, porque, francamente, Bentinho, eu ha mezes que\n",
      "\n",
      "--Capitú como vae?\n",
      "\n",
      "da minha repulsa ao seminario era Capitú, e lazer crer improvavel a\n",
      "\n",
      "Dias que me explicasse a alegria de Capitú, o que é que ella fazia, se\n",
      "\n",
      "para Capitú,--e tão senhor me sentia della que era como se olhassem\n",
      "\n",
      "possivel, mas certo. E a alegria de Capitú confirmava a suspeita; se\n",
      "\n",
      "chegar a casa do Padua, agarrar Capitú e intimar-lhe que me confessasse\n",
      "\n",
      "Cuidei naturalmente que falava ainda de Capitú, e quiz perguntar-lh'o,\n",
      "\n",
      "janella. Corri ao logar, elle fugiu; avancei para Capitú, mas não\n",
      "\n",
      "a sorte grande. Emquanto elle falava, Capitú dava-me com os olhos\n",
      "\n",
      "como as suas esperanças do bilhete. Capitú inclinou-se para fóra,\n",
      "\n",
      "mim, os rapazes tambem, e Escobar mais que os rapazes e os padres. No\n",
      "\n",
      "esperanças; Capitú refreou-me.\n",
      "\n",
      "--Escobar é muito meu amigo, Capitú!\n",
      "\n",
      "--Escobar é muito meu amigo, Capitú!\n",
      "\n",
      "--E você, Capitú, interrompeu minha mãe voltando-se para a filha do\n",
      "\n",
      "Padua que estava na sala, com ella,--você não acha que o nosso Bentinho\n",
      "\n",
      "--Acho que sim, senhora, respondeu Capitú cheia de convicção.\n",
      "\n",
      "entrada no seminario, quando eu vivia curtido de saudades. Capitú\n",
      "\n",
      "estando a falar de moças que se casam cedo, Capitú lhe dissera: «Pois a\n",
      "\n",
      "mim quem me ha de casar ha de ser o padre Bentinho; eu espero que elle\n",
      "\n",
      "dissimulação de Capitú que não vi mais nada, e, logo que almocei, corri\n",
      "\n",
      "a referir-lhe a conversa e a louvar-lhe a astucia. Capitú sorriu de\n",
      "\n",
      "--Você tem razão, Capitú, concluí eu; vamos enganar toda esta gente.\n",
      "\n",
      "Capitú ia agora entrando na alma de minha mãe. Viviam o mais do tempo\n",
      "\n",
      "Capitú ia lá coser, ás manhãs; alguma vez ficava para jantar.\n",
      "\n",
      "detestar Capitú, nem ella precisava de razões supplementares. Comtudo,\n",
      "\n",
      "a intimidade de Capitú fel-o mais aborrecivel á minha parenta. Se a\n",
      "\n",
      "fugindo-lhe. Capitú, attenta, desde que a não via, indagava della e\n",
      "\n",
      "infringir deslavadamente. Demais, Capitú usava certa magia que captiva;\n",
      "\n",
      "quiz que Capitú lhe servisse de enfermeira. Prima Justina, posto que\n",
      "\n",
      "se Bentinho não estiver ao pé de mim.\n",
      "\n",
      "--Que é, Bentinho?\n",
      "\n",
      "Capitú, que estava na alcova, gostou de ver a minha entrada, os\n",
      "\n",
      "Era sinhásinha Sancha, a companheira de collegio de Capitú, que\n",
      "\n",
      "deu-me rocommendações para Capitú e para minha mãe. Da rua olhei para\n",
      "\n",
      "Visita de Escobar.\n",
      "\n",
      "«A missa das oito já ha de ter acabado... Bentinho devia estar de\n",
      "\n",
      "Era o dia das boas sensações. Escobar foi visitar-me e saber da saude\n",
      "\n",
      "uma vez o pae no Rio de Janeiro. Escobar era muito polido; e, comquanto\n",
      "\n",
      "que de costume. Tio Cosme quiz que jantasse comnosco. Escobar reflectiu\n",
      "\n",
      "Escobar acceitou, e jantou. Notei que os movimentos rápidos que tinha e\n",
      "\n",
      "Os olhos de Escobar, claros como já disse, eram dulcissimos; assim\n",
      "\n",
      "agradassem a todos. Em casa, ficaram querendo bem a Escobar; a mesma\n",
      "\n",
      "Escobar despediu-se logo depois de jantar; fui leval-o á porta,\n",
      "\n",
      "Não é preciso dizer que era Capitú. São cousas que se adivinham na\n",
      "\n",
      "Capitú, que nos espreitara desde algum tempo, por dentro da veneziana,\n",
      "\n",
      "--É o Escobar, disse eu indo pôr-me embaixo da janella, a olhar para\n",
      "\n",
      "Assim se explicam a minha estada debaixo da janella de Capitú e a\n",
      "\n",
      "mas voltou a cabeça para o nosso lado, o lado de Capitú, e olhou\n",
      "\n",
      "para Capitú, e Capitú para elle; o cavallo andava, a cabeça do homem\n",
      "\n",
      "Nem disse nada a Capitú; saí da rua á pressa, enfiei pelo meu corredor,\n",
      "\n",
      "Capitú saisse da janella assustada e não tardasse a apparecer, para\n",
      "\n",
      "Capitú e os peraltas do bairro; agora, imaginando que vinha justamente\n",
      "\n",
      "--Que é, Bentinho?\n",
      "\n",
      "ver Capitú aquella tarde, nem nunca mais, e fazer-me padre de uma vez.\n",
      "\n",
      "fosse o abalo que me deu, não me fez sair do quarto. Capitú ria alto,\n",
      "\n",
      "congestão. Ergui-me de golpe, mas não saí do quarto. Capitú ria agora\n",
      "\n",
      "seminario e falar a Capitú. Podia estar zangada commigo, podia não\n",
      "\n",
      "a alguem o que se passava entre mim e Capitú. Não referi tudo, mas só\n",
      "\n",
      "uma parte, e foi Escobar que a recebeu. Quando voltei ao seminario,\n",
      "\n",
      "--Escobar....\n",
      "\n",
      "--Escobar, você é meu amigo, eu sou seu amigo tambem; aqui no seminario\n",
      "\n",
      "--Escobar, você é capaz de guardar um segredo?\n",
      "\n",
      "--Escobar, eu não posso ser padre. Estou aqui, os meus acreditam, o\n",
      "\n",
      "ter o gosto de repisar o assumpto. Escobar escutava com interesse; no\n",
      "\n",
      "vezes; eu louvava as qualidades moraes de Capitú, materia adequada á\n",
      "\n",
      "casa; Capitú vae passar uns dias com uma amiga da rua dos Invalidos.\n",
      "\n",
      "Escobar, que apenas trocara com ella quatro palavras. Uma só bastava a\n",
      "\n",
      "Capitú. Esta começou a fazer-se-lhe necessaria. Pouco a pouco veiu-lhe\n",
      "\n",
      "Capitú era naturalmente o anjo da Escriptura. A verdade é que minha mãe\n",
      "\n",
      "por actos extraordinarios. Capitú passou a ser a flôr da casa, o sol\n",
      "\n",
      "primeiro sabbado, quando eu cheguei a casa, e soube que Capitú estava\n",
      "\n",
      "--Pois então? Mas é se queres. Capitú devia ter voltado hoje para\n",
      "\n",
      "ceu azul. Foi Capitú que os trouxe á porta da sala, vindo dizer ao pae\n",
      "\n",
      "Capitú trazia signaes de fadiga e commoção, mas tão depressa me viu,\n",
      "\n",
      "fizemos, Capitú e eu. Vagamente lembra-me que lhe perguntei se a demora\n",
      "\n",
      "--Conselho della? murmurou Capitú.\n",
      "\n",
      "Gurgel tornou á sala e disse a Capitú que a filha chamava por ella.\n",
      "\n",
      "cadeiras. Ao contrario, Capitú ergueu-se naturalmente e perguntou-lhe\n",
      "\n",
      "Nem sobresalto nem nada, nenhum ar de mysterio da parte de Capitú;\n",
      "\n",
      "Capitú se governasse tão facilmente e eu não?\n",
      "\n",
      "Murmurei que sim. Na verdade, Capitú ia crescendo ás carreiras, as\n",
      "\n",
      "perguntou-me se Capitú era parecida com o retrato.\n",
      "\n",
      "aborrece ou impõe. Antes de examinar se effectivamente Capitú era\n",
      "\n",
      "satisfeito com a visita, com a alegria de Capitú, com os louvores de\n",
      "\n",
      "--Sr. Bentinho! Sr. Bentinho!\n",
      "\n",
      "--Sr. Bentinho, disse-me elle chorando; sabe que meu filho Manduca\n",
      "\n",
      "importante era Capitú. O mal foi que os dous casos se conjugassem na\n",
      "\n",
      "cara fresca e lepida de Capitú... Amai, rapazes! e, principalmente,\n",
      "\n",
      "--Senta, Bentinho!\n",
      "\n",
      "Matacavallos, que tem um filho, Bentinho...»\n",
      "\n",
      "seguinte, não iria ao seminario, e podia fazer outra visita a Capitú,\n",
      "\n",
      "Contava que tudo me saisse como naquelle dia, Gurgel afflicto, Capitú\n",
      "\n",
      "elle; duas pessoas vieram ajudal-o, Capitú, cuja imagem dormiu commigo\n",
      "\n",
      "Escobar que no domingo, antes do meio dia, veiu ter a Matacavallos. Um\n",
      "\n",
      "--Você janta commigo, Escobar?\n",
      "\n",
      "Todos ficaram gostando delle. Eu estava tão contente como se Escobar\n",
      "\n",
      "que o meu amigo Escobar era um tanto mettidiço e tinha uns olhos\n",
      "\n",
      "Quando eu referi a Escobar aquella opinião de minha mãe (sem lhe contar\n",
      "\n",
      "--Não é possivel! exclamou Escobar. Quarenta annos! Nem parece trinta;\n",
      "\n",
      "Contei-lhe o que sabia da vida della e de meu pae. Escobar escutava\n",
      "\n",
      "--É casado, disse eu para Escobar. Maria onde está?\n",
      "\n",
      "--Todas as lettras do alphabeto, interrompeu Escobar.\n",
      "\n",
      "horas deste mundo. Escobar confessou esse accordo do interno com o\n",
      "\n",
      "papel os algarismos das casas e dos alugueis. Escobar pegou no papel,\n",
      "\n",
      "no papel,--fel-o Escobar de cór, brincando. Olhava-me triumphalmente,\n",
      "\n",
      "Escobar observou-me que os outros e o padre falavam de inveja e\n",
      "\n",
      "Escobar apertou-me a mão ás escondidas, com tal força que ainda me\n",
      "\n",
      "A amizade de Escobar fez-se grande e fecunda; a de José Dias não lhe\n",
      "\n",
      "ideia é tão santa que não está mal no santuario. Amanhã, Bentinho.\n",
      "\n",
      "--É o unico, Bentinho, é o unico! Vou já hoje conversar com D. Gloria,\n",
      "\n",
      "--Oh! Bentinho! interrompeu o aggregado. Pensar em que? Você o que\n",
      "\n",
      "Rigorosamente, eram duas pessoas, Capitú e Escobar, mas eu neguei a pés\n",
      "\n",
      "Rigorosamente, eram duas pessoas, Capitú e Escobar, mas eu neguei a pés\n",
      "\n",
      "recommenda ao santissimo filho que todos os seus desejos, Bentinho,\n",
      "\n",
      "Vi a alma alliviada de minha mãe, vi a alma feliz de Capitú, ambas em\n",
      "\n",
      "tambem, mas a distancia que estaria da vontade de Capitú é que\n",
      "\n",
      "não. Eis o ponto essencial. Se Capitú achasse longe, não iria; mas\n",
      "\n",
      "era preciso ouvil-a, e assim tambem a Escobar, que me daria um bom\n",
      "\n",
      "Expuz a Capitú a ideia de José Dias. Ouviu-me attentamente, e acabou\n",
      "\n",
      "Não é de lá que vêm as cantoras? Você esquece-me, Bentinho. E não\n",
      "\n",
      "Capitú não achava outra ideia, nem acabava de adoptar esta. De caminho,\n",
      "\n",
      "Capitú metteu o negocio á bulha, rindo e chamando-me disfarçado.\n",
      "\n",
      "Quando voltei ao seminario, contei tudo ao meu amigo Escobar, que\n",
      "\n",
      "--Não, Bentinho, não é preciso isso. Ha melhor,--não digo melhor,\n",
      "\n",
      "Escobar observou que, pelo lado economico, a questão era facil; minha\n",
      "\n",
      "Sentia-me pilherico. Oh! como a esperança alegra tudo. Escobar sorriu,\n",
      "\n",
      "podia havel-o melhor. Escobar ouviu-me contentissimo.\n",
      "\n",
      "viçoso, como se o bacharel fosse elle. A mãe de Capitú fallecera, o pae\n",
      "\n",
      "Escobar começava a negociar em café depois de haver trabalhado quatro\n",
      "\n",
      "entre mim e Capitú. Desde que a viu animou-me muito no nosso amor. As\n",
      "\n",
      "com Capitú, e fel-o servir a ambos nós, como amigo. A principio,\n",
      "\n",
      "repugnava-me por um resto de respeito de creança. Venceu Escobar; posto\n",
      "\n",
      "que vexada, Capitú entregou-lhe a primeira carta, que foi mãe e avó\n",
      "\n",
      "casou,--adivinha com quem,--casou com a boa Sancha, a amiga de Capitú,\n",
      "\n",
      "é a figura do meu defuncto. Olha, Bentinho, olha bem para mim. Sempre\n",
      "\n",
      "«Tu serás feliz, Bentinho!»\n",
      "\n",
      "callida: «Tu serás feliz, Bentinho; tu vaes ser feliz.»\n",
      "\n",
      "serás rei, Macbeth!»--«Tu serás feliz, Bentinho!» Ao cabo, é a mesma\n",
      "\n",
      "não vale nada; agora são os novos, os Escobares... Não lhe nego que é\n",
      "\n",
      "Bentinho, foi um modo de accentuar a perfeição daquella moça. Cuidei\n",
      "\n",
      "--Positivamente, não; fez-me o favor de perguntar se Capitú não daria\n",
      "\n",
      "--Mamãe sempre que me escrevia, falava de Capitú.\n",
      "\n",
      "repetia, mas já então sem palavras: «Tu serás feliz, Bentinho » E a voz\n",
      "\n",
      "de Capitú me disse a mesma cousa, com termos diversos, e assim tambem\n",
      "\n",
      "a de Escobar, os quaes ambos me confirmaram a noticia de José Dias\n",
      "\n",
      "que Capitú, que não sabia Escriptura nem latim, decorou algumas\n",
      "\n",
      "Não obstante, achei que Capitú estava um tanto impaciente por descer.\n",
      "\n",
      "annos para aborrecer-me em sete dias? Não, Bentinho; digo isto porque\n",
      "\n",
      "na rua, tudo me mostrou que a causa da impaciencia de Capitú eram os\n",
      "\n",
      "Escobar contribuira muito para as minhas estréas no fòro. Interveiu com\n",
      "\n",
      "Sancha e Capitú continuavam depois de casadas a amizade da escola,\n",
      "\n",
      "Escobar e eu a do seminario. Elles moravam em Andarahy, aonde queriam\n",
      "\n",
      "Escobar e a mulher viviam felizes; tinham uma filhinha. Em tempo ouvi\n",
      "\n",
      "o marido trabalhador. Como eu um dia dissesse a Escobar que lastimava\n",
      "\n",
      "Não vinha. Capitú pedia-o em suas orações, eu mais de uma vez dava\n",
      "\n",
      "No mais, tudo corria bem. Capitú gostava de rir e divertir-se, e, nos\n",
      "\n",
      "ou a gente que passava na praia. Ás vezes, eu contava a Capitú a\n",
      "\n",
      "de Escobar, a quem confiei candidamente os meus tedios; concordou logo\n",
      "\n",
      "--Não é? Mas não diga o motivo; hão de chamar-nos seminaristas. Capitú\n",
      "\n",
      "Nem por isso deixei de contar a Capitú a approvação de Escobar. Ella\n",
      "\n",
      "Nem por isso deixei de contar a Capitú a approvação de Escobar. Ella\n",
      "\n",
      "--Você não me ouve, Capitú.\n",
      "\n",
      "--Qual, Sirius, Capitú. Ha vinte minutos que eu falei de Sirius.\n",
      "\n",
      "Capitú, ao percebel-o, fez-se a mais mimosa das creaturas, pegou-me na\n",
      "\n",
      "Capitú fitou-me rindo, e replicou que a culpa de romper o segredo era\n",
      "\n",
      "--O seu amigo Escobar.\n",
      "\n",
      "mas Capitú deteve-me. Ao contrario, consultou-me sobre o que haviamos\n",
      "\n",
      "No dia seguinte, fui ter com Escobar ao armazem, e ri-me do segredo de\n",
      "\n",
      "ambos. Escobar sorriu e disse-me que estava para ir ao meu escriptorio\n",
      "\n",
      "contar-me tudo. A cunhadinha (continuava a dar este nome a Capitú)\n",
      "\n",
      "é que Capitú póde economisar, agora que tudo está tão caro?»--«Não sei,\n",
      "\n",
      "--Capitú é um anjo!\n",
      "\n",
      "Escobar concordou de cabeça, mas sem enthusiasmo, como quem sentia não\n",
      "\n",
      "de Capitú; mas não é por isso que torno a ella, é para que não cuides\n",
      "\n",
      "Capitú e ter ciumes do mar. Não, meu amigo. Venho explicar-te que tive\n",
      "\n",
      "A verdade é que fiquei mais amigo de Capitú, se era possivel, ella\n",
      "\n",
      "mas as cautelas que Capitú empregou para o fim de descobrir-me um dia\n",
      "\n",
      "o cuidado de todos os dias. Escobar tambem se me fez mais pegado ao\n",
      "\n",
      "pessoa. Quando iamos a Andarahy e viamos a filha de Escobar e Sancha,\n",
      "\n",
      "familiarmente Capitúsinha, por differençal-a de minha mulher, visto\n",
      "\n",
      "Capitú convalescente. Tambem não caía, porque ha um deus para os paes\n",
      "\n",
      "Capitú não era menos terna para elle e para mim. Davamos as mãos um\n",
      "\n",
      "mãe e de Sancha, que tambem foi passar com Capitú os primeiros dias e\n",
      "\n",
      "tinha nada com isso; tambem Capitú, em solteira, fora tratal-a á rua\n",
      "\n",
      "--Lembra-me; mas Escobar...\n",
      "\n",
      "casmurrice, não sei se ainda ha tal linguagem, mas deve haver. Escobar\n",
      "\n",
      "--Póde ser, redarguia Escobar; ninguem diria o que veiu a ser\n",
      "\n",
      "Escobar acompanhava muita vez as minhas creancices; tambem interrogava\n",
      "\n",
      "A amizade existe; esteve toda nas mãos com que apertei as de Escobar,\n",
      "\n",
      "Era minha ideia que Escobar fosse padrinho do pequeno; a madrinha devia\n",
      "\n",
      "Contei discretamente a anecdota a Escobar, para que elle me\n",
      "\n",
      "Ezequiel; era o de Escobar, e eu quiz supprir deste modo a falta de\n",
      "\n",
      "Ezequiel; era o de Escobar, e eu quiz supprir deste modo a falta de\n",
      "\n",
      "Ezequiel, quando começou o capitulo anterior, não era ainda gerado;\n",
      "\n",
      "chegar o meu Ezequiel aos cinco annos, um rapagão bonito, com os seus\n",
      "\n",
      "Aos cinco e seis annos, Ezequiel não parecia desmentir os meus sonhos\n",
      "\n",
      "terem toda no coração. Escobar, bom negociante, opinava que a causa\n",
      "\n",
      "Gostava de musica, não menos que de doce, e eu disse a Capitú que lhe\n",
      "\n",
      "Capitú, e não achei treplica. Fiz, porém, o que ella não esperava;\n",
      "\n",
      "Capitú achou á toada um sabor particular, quasi delicioso; contou ao\n",
      "\n",
      "filho a historia do prégão, e assim o cantava e teclava. Ezequiel\n",
      "\n",
      "gravador e o que era gravura: as curiosidades de Capitú, em summa.\n",
      "\n",
      "Um dia, na chacara de Escobar, deu com um gato que tinha um rato\n",
      "\n",
      "fugisse. Ezequiel não disse nada, deteve-se, acocorou-se, e ficou\n",
      "\n",
      "fez-nos signal que nos calassemos. Escobar concluiu:\n",
      "\n",
      "Capitú quiz tambem ver o filho; acompanhei-os. Effectivamente, era\n",
      "\n",
      "outros nem tiveram tempo de atalhar-me, Ezequiel ficou abatido.\n",
      "\n",
      "Foi quando nasceu Ezequiel; a mãe estava com febre, Sancha vivia ao pé\n",
      "\n",
      "As imitações de Ezequiel.\n",
      "\n",
      "Tal não faria Ezequiel. Não comporia bolas envenenadas, supponho, mas\n",
      "\n",
      "pau. Capitú morria por aquelle batalhador futuro.\n",
      "\n",
      "José Dias; já lhe achei até um geito dos pés de Escobar e dos olhos...\n",
      "\n",
      "Capitú deixou-se estar pensando e olhando para mim, e disse afinal que\n",
      "\n",
      "A resposta do Capitú foi um riso doce de escarneo, um desses risos que\n",
      "\n",
      "desconfiança. E certo que Capitú gostava de ser vista, e o meio mais\n",
      "\n",
      "nenhuma receberia a minima parte do amor que tinha a Capitú. A minha\n",
      "\n",
      "propria mãe não queria mais que metade. Capitú era tudo e mais que\n",
      "\n",
      "Escobar; saí, mas voltei no fim do primeiro acto. Encontrei Escobar á\n",
      "\n",
      "Capitú, que ficára doente.\n",
      "\n",
      "--Doente de que? perguntou Escobar.\n",
      "\n",
      "Capitú estava melhor e até boa. Confessou-me que apenas tivera uma\n",
      "\n",
      "para me não metter medo, mas jurou que era a verdade pura. Escobar\n",
      "\n",
      "Capitú e eu tinhamos jurado não esquecer mais aquelle prégão; foi em\n",
      "\n",
      "Escobar me trazia apenas digo o que lhe disse então, isto é, que não\n",
      "\n",
      "Tomámos depressa. Durante elle, Escobar olhava para mim desconfiado,\n",
      "\n",
      "Quando elle saiu, referi as minhas duvidas a Capitú; ella as desfez\n",
      "\n",
      "Capitú!\n",
      "\n",
      "--Mas eu tenho notado que já é fria tambem com Ezequiel. Quando elle\n",
      "\n",
      "duvidas. Capitú novamente me aconselhou que esperassemos. Sogras\n",
      "\n",
      "Ezequiel ás vezes estava com ella; nós o havíamos acostumado a ver o\n",
      "\n",
      "os louvores incessantes que elle ouvia «á bella e virtuosa Capitú.»\n",
      "\n",
      "«prophetasinho» (assim chamava a Ezequiel) e fez-lhe as festas do\n",
      "\n",
      "o livro de Ezequiel, como soube depois), e perguntava-lhe: «Como vae\n",
      "\n",
      "--Que filho do homem é esse, perguntou-lhe Capitú agastada.\n",
      "\n",
      "--Tem razão, Capitú, concordou o aggregado. Voce não imagina como a\n",
      "\n",
      "--Não, atalhou Capitú; já lhe vou tirando esse costume do imitar os\n",
      "\n",
      "--Não, Ezequiel, disse eu, mamãe não quer.\n",
      "\n",
      "mais repetidos, como o das mãos e pés de Escobar; ultimamente, até\n",
      "\n",
      "deixal-a cair, quando ria. Capitú ralhava. Mas o menino era travesso,\n",
      "\n",
      "fechou a cara, que o reprehendeu e chamou a si foi Capitú.\n",
      "\n",
      "Já então Escobar deixára Andarahy e comprára uma casa no Flamengo, casa\n",
      "\n",
      "a historia. Não é que Escobar ainda lá more nem sequer viva; morreu\n",
      "\n",
      "mim e Capitú, acharam todos que sim, e Sancha accrescentou que até já\n",
      "\n",
      "--Não; é porque Ezequiel imita os gestos dos outros.\n",
      "\n",
      "Escobar concordou commigo, e insinuou que alguma vez as creanças que\n",
      "\n",
      "ainda o aggregado e prima Justina. Foi então que Escobar, falando-me á\n",
      "\n",
      "graças ás relações della e Capitú, não se me daria beijal-a na testa.\n",
      "\n",
      "--O mar amanhã está de desafiar a gente, disse-me a voz de Escobar, ao\n",
      "\n",
      "grande, e, a distancia, viam-se crescer as ondas. Capitú e prima\n",
      "\n",
      "O retrato de Escobar, que eu tinha alli, ao pé do de minha mãe,\n",
      "\n",
      "e Capitú eram tão amigas que seria um prazer mais para ellas irem\n",
      "\n",
      "nada. O retrato de Escobar pareceu falar-me; vi-lhe a altitude franca e\n",
      "\n",
      "estudar uns autos. Capitú e prima Justina sairam para a missa das\n",
      "\n",
      "Uma só vez olhei para o retrato de Escobar. Era uma bella photographia\n",
      "\n",
      "embaixo, não nas costas do cartão: «Ao meu querido Bentinho o seu\n",
      "\n",
      "querido Escobar 20-4-70.» Estas palavras fortaleceram-me os pensamentos\n",
      "\n",
      "recado a Capitú e corri ao Flamengo.\n",
      "\n",
      "Em caminho, fui adivinhando a verdade. Escobar metteu-se a nadar, como\n",
      "\n",
      "gente. Sai de lá cerca de onze horas; Capitú e prima Justina\n",
      "\n",
      "o logar em que Escobar fallecèra, ouvindo referir a chegada do morto.\n",
      "\n",
      "pequeno. Elogiavam as qualidades de Escobar. Um ou outro discutia\n",
      "\n",
      "fizera mais que recordar o tempo do seminario, as relações de Escobar,\n",
      "\n",
      "Muitos homem choravam tambem, as mulheres todas. Só Capitú, amparando\n",
      "\n",
      "arrancal-a dalli. A confusão era geral. No meio della, Capitú olhou\n",
      "\n",
      "As minhas cessaram logo. Fiquei a ver as della; Capitú enxugou-as\n",
      "\n",
      "a retinha tambem. Momento houve em que os olhos de Capitú fitaram o\n",
      "\n",
      "Não seria o mesmo caso de Capitú? Cuidei de recompôr-lhe os olhos, a\n",
      "\n",
      "as duvidas que me affligiam ou a necessidade de affligir Capitú com\n",
      "\n",
      "jogando cartas na saleta proxima. Capitú levantou-se do canapé e veiu\n",
      "\n",
      "o jogo, e todos falámos do desastre e da viuva. Capitú censurou a\n",
      "\n",
      "imprudencia de Escobar, e não dissimulou a tristeza que lhe trazia a\n",
      "\n",
      "Capitú saiu para ir ver se o filho dormia. Ao passar pelo espelho,\n",
      "\n",
      "José Dias achou a phrase «lindissima», e perguntou a Capitú porque é\n",
      "\n",
      "Inventariei as lembranças de Escobar, livros, um tinteiro de bronze,\n",
      "\n",
      "uma bengala de marfim, um passaro, o album de Capitú, duas paizagens\n",
      "\n",
      "dia: davam noticia do desastre e da morte de Escobar, os estudos e\n",
      "\n",
      "eram sublimes de amizade e estima. Capitú desta vez chorou muito; mas\n",
      "\n",
      "Porquanto, um dia Capitú quiz saber o que é que me fazia andar calado\n",
      "\n",
      "repliquei-lhe que os meus negocios andavam mal. Capitú sorriu para\n",
      "\n",
      "advogado rendia-me bastante, Capitú estava mais bella, Ezequiel ia\n",
      "\n",
      "advogado rendia-me bastante, Capitú estava mais bella, Ezequiel ia\n",
      "\n",
      "--Você já reparou que Ezequiel tem nos olhos uma espressão exquisita?\n",
      "\n",
      "perguntou-me Capitú. Só vi duas pessoas assim, um amigo de papae e o\n",
      "\n",
      "defuncto Escobar. Olha, Ezequiel; olha firme, assim, vira para o lado\n",
      "\n",
      "defuncto Escobar. Olha, Ezequiel; olha firme, assim, vira para o lado\n",
      "\n",
      "Era depois de jantar; estavamos ainda á mesa, Capitú brincava com\n",
      "\n",
      "mim. Approximei-me de Ezequiel, achei que Capitú tinha razão; eram os\n",
      "\n",
      "mim. Approximei-me de Ezequiel, achei que Capitú tinha razão; eram os\n",
      "\n",
      "olhos de Escobar, mas não me pareceram exquisitos por isso. Afinal\n",
      "\n",
      "semelhanças se dariam naturalmente. Ezequiel não entendeu nada, olhou\n",
      "\n",
      "Capitú, alheia a ambos, fitava agora a outra borda da mesa; mas,\n",
      "\n",
      "dizendo-lhe eu que, na belleza, os olhos de Ezequiel saíam aos da mãe,\n",
      "\n",
      "Capitú sorriu abanando a cabeça com um ar que nunca achei em mulher\n",
      "\n",
      "aquelle adagio que quem o feio ama bonito lhe parece. Capitú tinha meia\n",
      "\n",
      "nos olhos de Ezequiel.\n",
      "\n",
      "Escobar vinha assim surgindo da sepultura, do seminario e do Flamengo\n",
      "\n",
      "O que se passava entre mim e Capitú naquelles dias sombrios, não se\n",
      "\n",
      "meu amigo e comborço Escobar. Cheiram tambem aos olhos de ressaca de\n",
      "\n",
      "Capitú. Assim, posto sempre fosse homem de terra, conto aquella parte\n",
      "\n",
      "nos olhos um do outro, vibrante e decisiva, e sempre que Ezequiel vinha\n",
      "\n",
      "para nós não fazia mais que separar-nos. Capitú propoz mettel-o em um\n",
      "\n",
      "a arte fina de Capitú para fazel-o attenuar, ao menos, foi como se\n",
      "\n",
      "a minha paixão. Ezequiel vivia agora mais fóra da minha vista; mas a\n",
      "\n",
      "volta de Escobar mais vivo e ruidoso. Até a voz; dentro de pouco, já\n",
      "\n",
      "gabinete, quando eu me achava entre jornaes e autos. Ezequiel entrava\n",
      "\n",
      "continuava a peça. O ultimo acto mostrou-me que não eu, mas Capitú\n",
      "\n",
      "se ella devéras fosse culpada, tão culpada como Capitú? E que morte lhe\n",
      "\n",
      "Capitú. Nenhuma das outras era para ella; senti necessidade de lhe\n",
      "\n",
      "Escobar e da necessidade de morrer.\n",
      "\n",
      "realidade da manhã. Mas a photographia de Escobar deu-me o animo que me\n",
      "\n",
      "Quando ia a beber, cogitei se não seria melhor esperar que Capitú e o\n",
      "\n",
      "entrei a passear no gabinete. Ouvi a voz de Ezequiel no corredor, vi-o\n",
      "\n",
      "estante. Ezequiel abraçou-me os joelhos, esticou-se na ponta dos pés,\n",
      "\n",
      "Se eu não olhasse para Ezequiel, é provavel que não estivesse aqui\n",
      "\n",
      "impulso foi criminoso. Inclinei-me e perguntei a Ezequiel se já tomára\n",
      "\n",
      "Ezequiel abriu a boca. Cheguei-lhe a chicara, tão tremulo que quasi a\n",
      "\n",
      "--Papae papae! exclamava Ezequiel.\n",
      "\n",
      "Capitú que entra.\n",
      "\n",
      "Quando levantei a cabeça, dei com a figura de Capitú deante de mim.\n",
      "\n",
      "primeiro, uma vez que a mãe e o filho iam á missa, e Capitú não saía\n",
      "\n",
      "Desta vez, ao dar com ella, não sei se era dos meus olhos, mas Capitú\n",
      "\n",
      "crises. Capitú recompoz-se; disse ao filho que se fosse embora, e\n",
      "\n",
      "--Ha tudo; não entendo as tuas lagrimas nem as de Ezequiel. Que houve\n",
      "\n",
      "Capitú respondeu que ouvira choro e rumor de palavras. Eu creio que\n",
      "\n",
      "Grande foi a estupefacção de Capitú, e não menor a indignação que\n",
      "\n",
      "Capitú, aos seus gestos, á dôr que a retorcia, a cousa nenhuma, repeti\n",
      "\n",
      "Ande, Bentinho, fale! fale! Despeça-me d'aqui, mas diga tudo primeiro.\n",
      "\n",
      "--Não, Bentinho, ou conte o resto, para que eu me defenda, se você acha\n",
      "\n",
      "Não disse tudo; mal pude alludir aos amores de Escobar sem proferir-lhe\n",
      "\n",
      "o nome. Capitú não poude deixar de rir, de um riso que eu sinto\n",
      "\n",
      "disse-lhe não sei que palavras adequadas a este fim. Capitú olhou para\n",
      "\n",
      "Ezequiel, gritando:--«Mamãe! mamãe! é hora da missa!» restituiu-me\n",
      "\n",
      "á consciencia da realidade. Capitú e eu, involuntariamente, olhámos\n",
      "\n",
      "para a photographia de Escobar, e depois um para o outro. Desta vez\n",
      "\n",
      "força alguma photographia de Escobar pequeno que seria o nosso pequeno\n",
      "\n",
      "Ezequiel. De bocca, porém, não confessou nada; repetiu as ultimas\n",
      "\n",
      "rejeitei a morte, e esperei o regresso de Capitú. Este foi mais\n",
      "\n",
      "--Confiei a Deus todas as minhas amarguras, disse-me Capitú ao voltar\n",
      "\n",
      "mostrou em casa delle o retrato da mulher, parecido com Capitú. Has\n",
      "\n",
      "nos outros dias, Ezequiel ia ter commigo ao gabinete, e as feições\n",
      "\n",
      "das andorinhas de fóra, e acharam-lhe graça; Escobar declarou que,\n",
      "\n",
      "Capitú, confessando que a aborreciamos, foi a outros cuidados. Agora\n",
      "\n",
      "Capitú, ensinando a lingua materna a Ezequiel, que apprenderia o resto\n",
      "\n",
      "Capitú, ensinando a lingua materna a Ezequiel, que apprenderia o resto\n",
      "\n",
      "Ao cabo de alguns mezes, Capitú começára a escrever-me cartas, a que\n",
      "\n",
      "--Não; não posso. Agora, adeus, Bentinho, não sei sé me verá mais;\n",
      "\n",
      "esperança delle fosse enterrar-me. Correspondia-se com Capitú, a quem\n",
      "\n",
      "pedia que lhe mandasse o retrato de Ezequiel; mas Capitú ia adiando a\n",
      "\n",
      "pedia que lhe mandasse o retrato de Ezequiel; mas Capitú ia adiando a\n",
      "\n",
      "falar a Ezequiel no velho amigo do pae e do avô, «destinado pelo ceu\n",
      "\n",
      "terceira geração; mas a morte veiu antes de Ezequiel. A doença foi\n",
      "\n",
      "--Não, Bentinho, disse elle; basta um allopatha; em todas as escolas se\n",
      "\n",
      "Escobar. Era o meu comborço; era o filho de seu pae. Vestia de luto\n",
      "\n",
      "A voz era a mesma de Escobar, o sotaque era afrancezado. Expliquei-lhe\n",
      "\n",
      "aborrecimento, é verdade; a principio doeu-me que Ezequiel não fosse\n",
      "\n",
      "continuou a comer. Escobar comia assim tambem, com a cara mettida no\n",
      "\n",
      "de que pudesse ter visto alguma photographia de Escobar, que Capitú por\n",
      "\n",
      "de que pudesse ter visto alguma photographia de Escobar, que Capitú por\n",
      "\n",
      "Ezequiel cria em mim, como na mãe. Se fosse vivo José Dias, acharia\n",
      "\n",
      "o desejo de ver Ezequiel era para o fim de verificar no moço o debuxo\n",
      "\n",
      "--Está muito mal, disse eu a Ezequiel que queria ir vel-a, qualquer\n",
      "\n",
      "Senhor ou como quer que seja. Ezequiel viu-lhe a cara no caixão e não a\n",
      "\n",
      "Ao cabo de seis mezes, Ezequiel falou-me em uma viagem á Grecia, ao\n",
      "\n",
      "velhas ou novas. Onze mezes depois, Ezequiel morreu de uma febre\n",
      "\n",
      "tirada do propheta Ezequiel, em grego: «Tu eras perfeito nos teus\n",
      "\n",
      "«Quando seria o dia da creação de Ezequiel?» Ninguem me respondeu. Eis\n",
      "\n",
      "propriamente o resto do livro. O resto é saber se a Capitú da praia\n",
      "\n",
      "e tu concordarás commigo; se te lembras bem da Capitú menina, has de\n",
      "\n",
      "             XIII      Capitú\n",
      "\n",
      "             XXXI      As curiosidades de Capitú\n",
      "\n",
      "             XLII      Capitú reflectindo\n",
      "\n",
      "             LXXI      Visita de Escobar\n",
      "\n",
      "             C         «Tu serás feliz, Bentinho!»\n",
      "\n",
      "             CXII      As imitações de Ezequiel\n",
      "\n",
      "             CXXXVIII  Capitú que entra\n",
      "\n"
     ]
    }
   ],
   "source": [
    "nomes = ['Bentinho', 'Capitú', 'Escobar', 'Ezequiel']\n",
    "for linha in livro_inteiro:\n",
    "    for nome in nomes:\n",
    "        if nome in linha:\n",
    "            print(linha)"
   ]
  },
  {
   "cell_type": "code",
   "execution_count": 8,
   "metadata": {
    "execution": {
     "iopub.execute_input": "2025-03-31T21:39:06.332113Z",
     "iopub.status.busy": "2025-03-31T21:39:06.331930Z",
     "iopub.status.idle": "2025-03-31T21:39:06.461048Z",
     "shell.execute_reply": "2025-03-31T21:39:06.460694Z"
    }
   },
   "outputs": [],
   "source": [
    "nomes = ['Bentinho', 'Capitú', 'Escobar', 'Ezequiel']\n",
    "contagens = {}\n",
    "for nome in nomes:\n",
    "    contagens[nome] = 0\n",
    "    \n",
    "for linha in livro_inteiro:\n",
    "    for nome in nomes:\n",
    "        contagens[nome] += np.char.count(linha, nome)"
   ]
  },
  {
   "cell_type": "code",
   "execution_count": 9,
   "metadata": {
    "execution": {
     "iopub.execute_input": "2025-03-31T21:39:06.462712Z",
     "iopub.status.busy": "2025-03-31T21:39:06.462560Z",
     "iopub.status.idle": "2025-03-31T21:39:06.465042Z",
     "shell.execute_reply": "2025-03-31T21:39:06.464670Z"
    }
   },
   "outputs": [
    {
     "data": {
      "text/plain": [
       "{'Bentinho': 57, 'Capitú': 346, 'Escobar': 112, 'Ezequiel': 51}"
      ]
     },
     "execution_count": 9,
     "metadata": {},
     "output_type": "execute_result"
    }
   ],
   "source": [
    "contagens"
   ]
  },
  {
   "cell_type": "markdown",
   "metadata": {},
   "source": [
    "## Gráficos Simples"
   ]
  },
  {
   "cell_type": "code",
   "execution_count": 10,
   "metadata": {
    "execution": {
     "iopub.execute_input": "2025-03-31T21:39:06.466356Z",
     "iopub.status.busy": "2025-03-31T21:39:06.466176Z",
     "iopub.status.idle": "2025-03-31T21:39:06.468117Z",
     "shell.execute_reply": "2025-03-31T21:39:06.467810Z"
    }
   },
   "outputs": [],
   "source": [
    "y_values = np.zeros(len(nomes))\n",
    "for i, nome in enumerate(nomes):\n",
    "    y_values[i] = contagens[nome]"
   ]
  },
  {
   "cell_type": "code",
   "execution_count": 11,
   "metadata": {
    "execution": {
     "iopub.execute_input": "2025-03-31T21:39:06.469480Z",
     "iopub.status.busy": "2025-03-31T21:39:06.469345Z",
     "iopub.status.idle": "2025-03-31T21:39:06.546530Z",
     "shell.execute_reply": "2025-03-31T21:39:06.546138Z"
    }
   },
   "outputs": [
    {
     "data": {
      "image/png": "[encoded data removed]",
      "text/plain": [
       "<Figure size 640x480 with 1 Axes>"
      ]
     },
     "metadata": {},
     "output_type": "display_data"
    }
   ],
   "source": [
    "plt.bar([1, 2, 3, 4], y_values)\n",
    "plt.xticks([1, 2, 3, 4], nomes)\n",
    "plt.show();"
   ]
  },
  {
   "cell_type": "code",
   "execution_count": 12,
   "metadata": {
    "execution": {
     "iopub.execute_input": "2025-03-31T21:39:06.547967Z",
     "iopub.status.busy": "2025-03-31T21:39:06.547802Z",
     "iopub.status.idle": "2025-03-31T21:39:06.695013Z",
     "shell.execute_reply": "2025-03-31T21:39:06.694634Z"
    }
   },
   "outputs": [],
   "source": [
    "mencoes_por_linha = {}\n",
    "for nome in nomes:\n",
    "    mencoes_por_linha[nome] = np.zeros(len(livro_inteiro))\n",
    "    \n",
    "for i, linha in enumerate(livro_inteiro):\n",
    "    for nome in nomes:\n",
    "        mencoes_por_linha[nome][i] += np.char.count(linha, nome)"
   ]
  },
  {
   "cell_type": "code",
   "execution_count": 13,
   "metadata": {
    "execution": {
     "iopub.execute_input": "2025-03-31T21:39:06.696587Z",
     "iopub.status.busy": "2025-03-31T21:39:06.696467Z",
     "iopub.status.idle": "2025-03-31T21:39:06.792490Z",
     "shell.execute_reply": "2025-03-31T21:39:06.792059Z"
    }
   },
   "outputs": [
    {
     "data": {
      "image/png": "[encoded data removed]",
      "text/plain": [
       "<Figure size 1000x800 with 1 Axes>"
      ]
     },
     "metadata": {},
     "output_type": "display_data"
    }
   ],
   "source": [
    "plt.figure(figsize=(10, 8))\n",
    "for nome in nomes:\n",
    "    plt.plot(np.cumsum(mencoes_por_linha[nome]), label=nome)\n",
    "plt.legend()\n",
    "plt.show()"
   ]
  },
  {
   "cell_type": "markdown",
   "metadata": {
    "slideshow": {
     "slide_type": "slide"
    }
   },
   "source": [
    "### Próxima vez\n",
    "\n",
    "- Na quarta-feira começaremos a programar 💻 em Python 🐍.\n",
    "- Fique atento aos anúncios via Moodle!"
   ]
  }
 ],
 "metadata": {
  "kernelspec": {
   "display_name": "teaching",
   "language": "python",
   "name": "python3"
  },
  "language_info": {
   "codemirror_mode": {
    "name": "ipython",
    "version": 3
   },
   "file_extension": ".py",
   "mimetype": "text/x-python",
   "name": "python",
   "nbconvert_exporter": "python",
   "pygments_lexer": "ipython3",
   "version": "3.12.7"
  },
  "livereveal": {
   "scroll": true,
   "transition": "none"
  },
  "rise": {
   "enable_chalkboard": true
  }
 },
 "nbformat": 4,
 "nbformat_minor": 4
}
