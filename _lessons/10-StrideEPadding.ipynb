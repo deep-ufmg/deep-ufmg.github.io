{
 "cells": [
  {
   "cell_type": "markdown",
   "metadata": {
    "id": "1orzDEyIgUjD"
   },
   "source": [
    "---\n",
    "layout: page\n",
    "title: Stride e Padding\n",
    "nav_order: 10\n",
    "---\n",
    "\n",
    "# Stride e Padding"
   ]
  },
  {
   "cell_type": "markdown",
   "metadata": {
    "id": "9E-y14a9iBrx"
   },
   "source": [
    "### Exercício 1"
   ]
  },
  {
   "cell_type": "markdown",
   "metadata": {
    "id": "EgAEMF6ziB-x"
   },
   "source": [
    "Dado uma imagem em preto e branco de tamanho 8 × 8 pixels e um filtro\n",
    "de tamanho 3 × 3, indique as dimensões da matriz resultado da convolução e o tamanho do padding que deverá ser utilizado em cada um dos casos:\n",
    "\n",
    "a) Valid padding\n",
    "\n",
    "b) Same padding"
   ]
  },
  {
   "cell_type": "markdown",
   "metadata": {
    "id": "gX7PcMQym1Sf"
   },
   "source": [
    "**Resposta:**\n",
    "\n",
    "a) Dimensão do resultado: 6 × 6, padding: $p$ = 0\n",
    "\n",
    "b) Dimensão do resultado: 8 × 8, padding: $p$ = 1"
   ]
  },
  {
   "cell_type": "markdown",
   "metadata": {
    "id": "zfc1XGO4iCK4"
   },
   "source": [
    "### Exercício 2"
   ]
  },
  {
   "cell_type": "markdown",
   "metadata": {
    "id": "kzSNeWuaiCWQ"
   },
   "source": [
    "Repita o exercício acima utilizando stride igual a 2."
   ]
  },
  {
   "cell_type": "markdown",
   "metadata": {
    "id": "bpXqTIftm2G1"
   },
   "source": [
    "**Resposta:**\n",
    "\n",
    "a) Dimensão do resultado: 3 × 3, padding: $p$ = 0\n",
    "\n",
    "b) Dimensão do resultado: 8 × 8, padding: $p$ = 4.5 $p$ = (n ∗ s − n + f − s) / 2\n",
    "\n",
    "(Note que quando $p$ não é um valor inteiro significa que o padding no lado esquerdo e direito da matriz terão tamanhos diferentes. No nosso caso, seriam adicionados 4 zeros na esquerda e 5 na direita, ou vice-versa)."
   ]
  },
  {
   "cell_type": "markdown",
   "metadata": {
    "id": "LqhAKzETiCgZ"
   },
   "source": [
    "### Exercício 3"
   ]
  },
  {
   "cell_type": "markdown",
   "metadata": {
    "id": "nxihu6eRiKsV"
   },
   "source": [
    "Explique como o tamanho do filtro de convolução pode não causar impacto no número de aplicaçãoes (ou seja, o número de vezes que seu filtro irá multiplicar o volume de entrada) ao usar o Same Padding."
   ]
  },
  {
   "cell_type": "markdown",
   "metadata": {
    "id": "LSAK2nE9m2tH"
   },
   "source": [
    "**Resposta:**\n",
    "\n",
    "Ainda que filtros maiores sejam aplicados menos vezes em uma mesma\n",
    "entrada, no Same Padding, o tamanho da entrada é proporcional ao tamanho do filtro (por causa do padding). Portanto, a quantidade de aplicações do filtro permanece inalterada."
   ]
  },
  {
   "cell_type": "markdown",
   "metadata": {
    "id": "27dAFJcpiLTY"
   },
   "source": [
    "### Exercício 4"
   ]
  },
  {
   "cell_type": "markdown",
   "metadata": {
    "id": "gpE3J8SMiLji"
   },
   "source": [
    "O Valid Padding sempre produz uma imagem de saída com dimensões\n",
    "2D menores do que a entrada. Estritamente falando, este não é sempre o caso. Especifique o caso (não muito interessante) onde esta afirmação é falsa."
   ]
  },
  {
   "cell_type": "markdown",
   "metadata": {
    "id": "dZO70aRvm3Ox"
   },
   "source": [
    "**Resposta:**\n",
    "\n",
    "Quando o filtro tem tamanho 1 × 1. Assumindo que não haverá padding e stride igual a 1, dado uma imagem n × n, ao aplicar um filtro 1 × 1, o resultado obtido terá dimensão igual a:\n",
    "\n",
    "(n − f + 1) × (n − f + 1) = n × n."
   ]
  },
  {
   "cell_type": "markdown",
   "metadata": {
    "id": "mRA6Qsyfdv4X"
   },
   "source": [
    "## 2. Convoluções sobre volumes"
   ]
  },
  {
   "cell_type": "markdown",
   "metadata": {
    "id": "EI_CGxCDepA6"
   },
   "source": [
    "### Exercício 5"
   ]
  },
  {
   "cell_type": "markdown",
   "metadata": {
    "id": "QJz1MEq7en6k"
   },
   "source": [
    "Suponha uma entrada de tamanho 63 x 63 x 16. Ao aplicar uma convolução nessa entrada com 32 filtros de tamanho 7 x 7, usando stride igual a 2 e sem padding. Qual será o volume de saída?"
   ]
  },
  {
   "cell_type": "markdown",
   "metadata": {
    "id": "_bao2NNRe1qe"
   },
   "source": [
    "**Resposta:**\n",
    "\n",
    "29 x 29 x 32"
   ]
  },
  {
   "cell_type": "markdown",
   "metadata": {
    "id": "iXGd6_JCeoQt"
   },
   "source": [
    "### Exercício 6"
   ]
  },
  {
   "cell_type": "markdown",
   "metadata": {
    "id": "PFMu7Pa8enwJ"
   },
   "source": [
    "Suponha uma entrada de tamanho 15 x 15 x 8. Usando a operação de padding igual 2, qual é a dimensão do dado de saída após o padding?"
   ]
  },
  {
   "cell_type": "markdown",
   "metadata": {
    "id": "KEjn985he4HQ"
   },
   "source": [
    "**Resposta:**\n",
    "\n",
    "19 x 19 x 8"
   ]
  },
  {
   "cell_type": "markdown",
   "metadata": {
    "id": "pVrTOkbJeoD8"
   },
   "source": [
    "### Exercício 7"
   ]
  },
  {
   "cell_type": "markdown",
   "metadata": {
    "id": "ySIvpQ9YeeGZ"
   },
   "source": [
    "Dado uma entrada de dimensão 63 x 63 x 16 e uma convolução com 32 filtros de dimensão 7 x 7 cada e um stride igual a 1, qual deverá ser o tamanho do padding utilizado para que você obtenha uma saída com o mesmo tamanho da entrada (same padding)?\n"
   ]
  },
  {
   "cell_type": "markdown",
   "metadata": {
    "id": "4oIrAxyie4x-"
   },
   "source": [
    "**Resposta:**\n",
    "\n",
    "$p$ = 3"
   ]
  }
 ],
 "metadata": {
  "colab": {
   "authorship_tag": "ABX9TyN4BkRitbgs+P4+uwL8w+HD",
   "provenance": []
  },
  "kernelspec": {
   "display_name": "Python 3",
   "name": "python3"
  },
  "language_info": {
   "codemirror_mode": {
    "name": "ipython",
    "version": 3
   },
   "file_extension": ".py",
   "mimetype": "text/x-python",
   "name": "python",
   "nbconvert_exporter": "python",
   "pygments_lexer": "ipython3",
   "version": "3.12.7"
  }
 },
 "nbformat": 4,
 "nbformat_minor": 0
}
