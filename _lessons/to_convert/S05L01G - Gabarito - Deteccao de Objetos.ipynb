{
 "cells": [
  {
   "cell_type": "markdown",
   "metadata": {},
   "source": [
    "# Lista Teórica 01 - Detecção de objetos "
   ]
  },
  {
   "cell_type": "markdown",
   "metadata": {},
   "source": []
  },
  {
   "cell_type": "markdown",
   "metadata": {},
   "source": [
    "## 1 - Algoritmos de Detecção de Objetos"
   ]
  },
  {
   "cell_type": "markdown",
   "metadata": {},
   "source": [
    "**1)** Você está construindo um algoritmo de classificação e localização de objetos de 3 classes. As classes são: pedestre (c = 1), carro (c = 2), motocicleta (c = 3). Qual seria o rótulo aproximado da imagem a seguir? Considere a imagem como sendo um quadrado de lado igual a 1. \n",
    "\n",
    "![l1q1](./assets/l1q1.png)\n",
    "\n",
    "<details>\n",
    "<summary>Dica:</summary>\n",
    "Lembre que $ y = [p_c, b_x, b_y, b_h, b_w, c_1, c_2, c_3] $\n",
    "</details>"
   ]
  },
  {
   "cell_type": "markdown",
   "metadata": {},
   "source": [
    "$ y=[1,0.3,0.7,0.3,0.3,0,1,0] $, onde:\n",
    "\n",
    " - 1, no caso a imagem contem um objeto\n",
    " - Posição $b_x$ a 30\\% da largura total da imagem\n",
    " - Posição $b_y$ a 70\\% da altura total da imagem\n",
    " - Tamanho total do objeto (carro) de $b_w=0.3$ em relação a largura total da imagem\n",
    " - Tamanho total do objeto (carro) de $b_h=0.3$ em relação a altura total da imagem\n",
    " - Vetor de classes apenas ativado na classe carro: $c_1=0, c_2=1, c_3=0$\n"
   ]
  },
  {
   "cell_type": "markdown",
   "metadata": {},
   "source": [
    "---"
   ]
  },
  {
   "cell_type": "markdown",
   "metadata": {},
   "source": [
    "**2)** Continuando com o problema anterior, qual deve ser o rotulo y da imagem abaixo?\n",
    "\n",
    "![l1q2](./assets/l1q2.png)\n",
    "\n",
    "<details>\n",
    "<summary>Dica 1:</summary>\n",
    "Lembre que $y = [p_c, b_x, b_y, b_h, b_w, c_1, c_2, c_3]$\n",
    "</details>\n",
    "\n",
    "<details>\n",
    "<summary>Dica 2:</summary>\n",
    "Lembre-se de que `?` Significa `não se importa`, o que significa que a função de perda da rede neural não se importa com o que a rede neural fornece para esse componente da saída.\n",
    "</details>\n"
   ]
  },
  {
   "cell_type": "markdown",
   "metadata": {},
   "source": [
    "$ y=[0,?,?,?,?,?,?,?] $, nessa imagem não é encontrada nenhuma das classes reconhecidas pelo algoritmo."
   ]
  },
  {
   "cell_type": "markdown",
   "metadata": {},
   "source": [
    "---"
   ]
  },
  {
   "cell_type": "markdown",
   "metadata": {},
   "source": [
    "**3)** O somatório dos erros quadráticos é uma possível função de perda que pode ser aplicada ao trabalhar com detecção de objetos. Escreva a fórmula de perda considerando os dois casos mostrados nos Exercícios 1 e 2, ou seja, quando na imagem existe um objeto que pertence a uma das classes e quando não há nenhum."
   ]
  },
  {
   "cell_type": "markdown",
   "metadata": {},
   "source": [
    "$L(\\hat{y}, y) = (\\hat{y_1} - y_1)^2 + (\\hat{y_2} - y_2)^2 + ... + (\\hat{y_8} - y_8)^2$ se $y_1 = 1$.\n",
    "\n",
    "$L(\\hat{y}, y) = (\\hat{y_1} - y_1)^2$ se $y_1 = 0$"
   ]
  },
  {
   "cell_type": "markdown",
   "metadata": {},
   "source": [
    "---"
   ]
  },
  {
   "cell_type": "markdown",
   "metadata": {},
   "source": [
    "**4)** Você está trabalhando em uma tarefa de automação de fábrica. Seu sistema verá uma lata de refrigerante descendo por uma correia transportadora, e você quer que ela tire uma foto e decida se (i) há uma lata de refrigerante na imagem e, em caso afirmativo, (ii) sua bounding box. Como a lata de refrigerante é redonda, a bounding box é sempre quadrada e o refrigerante sempre aparece com o mesmo tamanho na imagem. Há no máximo uma lata de refrigerante em cada imagem. Aqui estão algumas imagens típicas no seu conjunto de treinamento:\n",
    "\n",
    "![l1q4](./assets/l1q4.png)\n",
    "\n",
    "Qual é o conjunto mais apropriado de unidades de saída para sua rede neural? Considere a função de ativação que poderá ser utilizada nessa tarefa de classificação (i) e a dimensão do vetor de saída bem como o que cada posição representa."
   ]
  },
  {
   "cell_type": "markdown",
   "metadata": {},
   "source": [
    "Unidade logística, $b_x$ e $b_y$. A unidade logística vai servir apenas para a tarefa de classificação, enquanto as coordenadas $b_x$ e $b_y$ nos dizem a posição do objeto. Considerando que o refrigerante aparece sempre com o mesmo tamanho, $b_h$ e $b_w$ são desnecessários."
   ]
  },
  {
   "cell_type": "markdown",
   "metadata": {},
   "source": [
    "---"
   ]
  },
  {
   "cell_type": "markdown",
   "metadata": {},
   "source": [
    "**5)** Ao treinar um dos sistemas de detecção de objetos, você precisa de um conjunto de treinamento que contenha muitas imagens do(s) objeto(s) que você deseja detectar. Além das imagens e o rótulo dos objetos, explique quais outras informações precisam ser fornecidas para o treinamento supervisionado da rede de detecção de objetos."
   ]
  },
  {
   "cell_type": "markdown",
   "metadata": {},
   "source": [
    "As caixas delimitadoras precisam ser fornecidas no conjunto de treinamento."
   ]
  },
  {
   "cell_type": "markdown",
   "metadata": {},
   "source": [
    "---"
   ]
  },
  {
   "cell_type": "markdown",
   "metadata": {},
   "source": [
    "## 2 - Janelas Deslizantes"
   ]
  },
  {
   "cell_type": "markdown",
   "metadata": {},
   "source": [
    "**6)** Considere um volume $2 \\times 2 \\times 2$, onde $\\omega_{ijc}$ é a célula $(i,j)$ do canal $c$, 2 filtros $2 \\times 2$, onde $F_{ijck}$ é o valor de cada célula (com $k$ como identificador do filtro), e uma função de ativação $g(x)$. Encontre a forma fechada da saída dessa camada após a aplicação dos filtros. Explique como essa camada convolucional é equivalente à uma camada Fully Connected (indique o que seriam os nós, os pesos e suas dimensões)."
   ]
  },
  {
   "cell_type": "markdown",
   "metadata": {},
   "source": [
    "Para cada $\\omega_k$ de saída: \n",
    "\n",
    "$\\omega_k = g(\\sum_{i,j,c=1}^{2} w_{ijc}F_{ijck} + b_k)$, onde $\\omega_k$ são os nós de saída com dimensão $2$, $w_{ijc}$ são os nós de entrada com dimensão $8$, $F_{ijck}$ são os pesos com dimensão $8 \\times 2 = 16$ e $b_k$ é o bias com dimensão $2$. Portanto essa camada convolucional é equivalente a uma camada fully connected com 8 nós de entrada e dois de saída."
   ]
  },
  {
   "cell_type": "markdown",
   "metadata": {},
   "source": [
    "---"
   ]
  },
  {
   "cell_type": "markdown",
   "metadata": {},
   "source": [
    "## 3 - Non-Max Suppression"
   ]
  },
  {
   "cell_type": "markdown",
   "metadata": {},
   "source": [
    "**7)** Qual é o valor da Interseção sobre a União (IoU) entre estas duas caixas? A caixa superior esquerda é 2x2 e a caixa inferior direita é 2x3. A região sobreposta é 1x1.\n",
    "\n",
    "![l1q7](./assets/l1q7.png)"
   ]
  },
  {
   "cell_type": "markdown",
   "metadata": {},
   "source": [
    "$IoU = \\frac{I}{U} = 1/9 $ , I = $b_1 \\cap b_2 = 1$ , U = $b_1 \\cup b_2 = 9$"
   ]
  },
  {
   "cell_type": "markdown",
   "metadata": {},
   "source": [
    "---"
   ]
  },
  {
   "cell_type": "markdown",
   "metadata": {},
   "source": [
    "**8)** Suponha que você execute a non-max suppresion nas caixas previstas na imagem abaixo. Os parâmetros usados são: caixas com probabilidade $ \\leq $ 0.4 são descartadas, e o limiar de IoU para decidir se duas caixas se sobrepõem é 0.5. Indique quantas e quais caixas permanecerão. \n",
    "\n",
    "![l1q8](./assets/l1q8.png)"
   ]
  },
  {
   "cell_type": "markdown",
   "metadata": {},
   "source": [
    "5 Caixas. \n",
    "\n",
    "Algoritmo do Non max-supression:\n",
    "\n",
    " - Descarte todas as BB com probabilidade menor ou igual a 0.4\n",
    " - Enquanto ainda houver BB não analisadas: a) Escolha a BB de maior probabilidade; b) Remova qualquer BB que tenha IoU maior que 0.5 com a BB escolhida em (a)."
   ]
  },
  {
   "cell_type": "markdown",
   "metadata": {},
   "source": [
    "---"
   ]
  },
  {
   "cell_type": "markdown",
   "metadata": {},
   "source": [
    "**9)** Repita o exercício anterior com probabilidade de descarte igual a 0.6."
   ]
  },
  {
   "cell_type": "markdown",
   "metadata": {},
   "source": [
    "3 Caixas"
   ]
  },
  {
   "cell_type": "markdown",
   "metadata": {},
   "source": [
    "---"
   ]
  },
  {
   "cell_type": "markdown",
   "metadata": {},
   "source": [
    "**10)** Cite 2 situações nas quais o  algoritmo de non-max suppression é falho."
   ]
  },
  {
   "cell_type": "markdown",
   "metadata": {},
   "source": [
    "- Quando a bounding box de maior probabilidade não é a mais adequada; \n",
    "- Objetos distintos estão muito perto uns dos outros;\n",
    "- Falsos positivos."
   ]
  }
 ],
 "metadata": {
  "language_info": {
   "name": "python"
  }
 },
 "nbformat": 4,
 "nbformat_minor": 2
}
