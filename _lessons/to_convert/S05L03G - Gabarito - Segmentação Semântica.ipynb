{
 "cells": [
  {
   "cell_type": "markdown",
   "metadata": {},
   "source": [
    "# Lista Teórica 03 - Segmentação Semântica"
   ]
  },
  {
   "cell_type": "markdown",
   "metadata": {},
   "source": []
  },
  {
   "cell_type": "markdown",
   "metadata": {},
   "source": [
    "## 1. Segmentação semântica"
   ]
  },
  {
   "cell_type": "markdown",
   "metadata": {},
   "source": [
    "**1)** O que é segmentação semântica?"
   ]
  },
  {
   "cell_type": "markdown",
   "metadata": {},
   "source": [
    "A segmentação semântica é uma técnica que envolve atribuir um rótulo (classe) a cada pixel em uma imagem, permitindo um entendimento mais detalhado da cena retratada na imagem."
   ]
  },
  {
   "cell_type": "markdown",
   "metadata": {},
   "source": [
    "---"
   ]
  },
  {
   "cell_type": "markdown",
   "metadata": {},
   "source": [
    "**2)** Por que é dito que a tarefa de segmentação semântica é uma tarefa de predição densa enquanto a detecção de objetos é uma tarefa de predição esparsa?"
   ]
  },
  {
   "cell_type": "markdown",
   "metadata": {},
   "source": [
    "Em segmentação semântica, cada pixel da imagem tem um rótulo que deve ser predito pelo classificador. Em detecção de objetos, a maior parte da imagem pode não ser rotulada, pois estamos interessados somente nos rótulos dos objetos capturados pelas bounding boxes."
   ]
  },
  {
   "cell_type": "markdown",
   "metadata": {},
   "source": [
    "---"
   ]
  },
  {
   "cell_type": "markdown",
   "metadata": {},
   "source": [
    "**3)** Quais são as diferenças entre as tarefas de: classificação de imagens, detecção de objetos, segmentação semântica e segmentação de instâncias?"
   ]
  },
  {
   "cell_type": "markdown",
   "metadata": {},
   "source": [
    "- Classificação de imagens: Dado uma imagem, a rede deve gerar um rótulo para ela.\n",
    "- Detecção de objetos: Dada uma imagem a rede deve detectar os objetos, localizá-los numa \\textsl{bounding box} e prever a classe do objeto. \n",
    "- Segmentação semântica: Dada uma imagem cada pixel deve ser classificado em uma classe (que pode ou não ser um objeto).\n",
    "- Segmentação de instâncias: Dada uma imagem, localizar os objetos e identificar cada pixel pertencente a cada instância do objeto."
   ]
  },
  {
   "cell_type": "markdown",
   "metadata": {},
   "source": [
    "---"
   ]
  },
  {
   "cell_type": "markdown",
   "metadata": {},
   "source": [
    "**4)** Quais são algumas aplicações da segmentação semântica?"
   ]
  },
  {
   "cell_type": "markdown",
   "metadata": {},
   "source": [
    "A segmentação semântica é usada em uma variedade de aplicações, incluindo carros autônomos, imagens médicas e análise de imagens de satélite."
   ]
  },
  {
   "cell_type": "markdown",
   "metadata": {},
   "source": [
    "---"
   ]
  },
  {
   "cell_type": "markdown",
   "metadata": {},
   "source": [
    "## 2. Arquiteturas"
   ]
  },
  {
   "cell_type": "markdown",
   "metadata": {},
   "source": [
    "**5)** Considere uma arquitetura treinada para fazer segmentação semântica em 2 classes. Explique como é possível criar um mapa de probabilidades onde cada pixel na sua imagem de saída é uma representação da probabilidade do pixel pertencer a uma determinada classe."
   ]
  },
  {
   "cell_type": "markdown",
   "metadata": {},
   "source": [
    "Dado o treinamento da arquitetura, durante o forward-propagation de uma imagem de teste, basta utilizar a saída da função softmax, que retorna um vetor de probabilidades dentre as possíveis classe treinadas, e fazer o mapeamento direto dos intervalos de $[0,1]$ em $[0,255]$ para cada pixel. O novo mapeamento será visto como um tom de cinza dentro da imagem de saída. "
   ]
  },
  {
   "cell_type": "markdown",
   "metadata": {},
   "source": [
    "---"
   ]
  },
  {
   "cell_type": "markdown",
   "metadata": {},
   "source": [
    "**6)** Descreva como é possível transformar uma arquitetura de classificação de imagens para resolver um problema de de segmentação semântica. \n",
    "Qual é uma possível desvantagem dessa abordagem?"
   ]
  },
  {
   "cell_type": "markdown",
   "metadata": {},
   "source": [
    "Dado uma imagem de entrada para classificação pixel a pixel, basta fazer pequenos recortes de tamanho ímpar (pois é necessário um pixel central). Ao passar esse recorte pela rede, teremos uma classificação que será usada no pixel central. Repetiremos o processo para todos os pixels na imagem e assim teremos uma saída para a tarefa de classificação semântica. Como o processo deve ser repetido para cada pixel da imagem, o custo computacional dessa abordagem é muito alto."
   ]
  },
  {
   "cell_type": "markdown",
   "metadata": {},
   "source": [
    "---"
   ]
  },
  {
   "cell_type": "markdown",
   "metadata": {},
   "source": [
    "**7)** Por que uma rede neural *Fully Connected* não funciona em tarefas de segmentação semântica/de instância?"
   ]
  },
  {
   "cell_type": "markdown",
   "metadata": {},
   "source": [
    "Ao transformar os pixels de uma imagem em nós de uma rede neural, a orientação espacial de cada um em relação aos outros é perdida, o que é necessário para realizar a segmentação semântica/de instância."
   ]
  },
  {
   "cell_type": "markdown",
   "metadata": {},
   "source": [
    "---"
   ]
  },
  {
   "cell_type": "markdown",
   "metadata": {},
   "source": [
    "**8)** Quais são algumas arquiteturas comuns usadas em modelos de segmentação semântica?"
   ]
  },
  {
   "cell_type": "markdown",
   "metadata": {},
   "source": [
    "Arquiteturas comuns usadas em modelos de segmentação semântica incluem Redes Totalmente Convolucionais (FCN), *SegNet* e *DeconvNets*."
   ]
  },
  {
   "cell_type": "markdown",
   "metadata": {},
   "source": [
    "---"
   ]
  },
  {
   "cell_type": "markdown",
   "metadata": {},
   "source": [
    "**9)** Em uma *Fully Convolutional Network*, qual é o objetivo do *downsampling* e *upsampling*?"
   ]
  },
  {
   "cell_type": "markdown",
   "metadata": {},
   "source": [
    "O Downsampling diminui custo de computação e memória pois as camadas intermediárias terão tamanho menor. Já o Upsampling é necessário para alinhar a previsão da rede com os pixels da imagem."
   ]
  },
  {
   "cell_type": "markdown",
   "metadata": {},
   "source": [
    "----"
   ]
  },
  {
   "cell_type": "markdown",
   "metadata": {},
   "source": [
    "**10)** Considere o seguinte volume de entrada:\n",
    "$$\n",
    "\\begin{bmatrix}\n",
    "    5 & 6 \\\\\n",
    "    3 & 2\n",
    "\\end{bmatrix}{}\n",
    "$$\n",
    "\n",
    "Faça o *upsampling* do volume para uma saída $4 \\times 4$ de acordo com cada um dos métodos:"
   ]
  },
  {
   "cell_type": "markdown",
   "metadata": {},
   "source": [
    "**a.** Nearest Neighbor"
   ]
  },
  {
   "cell_type": "markdown",
   "metadata": {},
   "source": [
    "$$\n",
    "\\begin{bmatrix}\n",
    "5 & 5 & 6 & 6\\\\\n",
    "5 & 5 & 6 & 6\\\\\n",
    "3 & 3 & 2 & 2\\\\\n",
    "3 & 3 & 2 & 2\\\\\n",
    "\\end{bmatrix}{}\n",
    "$$"
   ]
  },
  {
   "cell_type": "markdown",
   "metadata": {},
   "source": [
    "**b.** *Bed of Nails* (\"Cama de Pregos\")"
   ]
  },
  {
   "cell_type": "markdown",
   "metadata": {},
   "source": [
    "$$\n",
    "\\begin{bmatrix}\n",
    "5 & 0 & 6 & 0\\\\\n",
    "0 & 0 & 0 & 0\\\\\n",
    "3 & 0 & 2 & 0\\\\\n",
    "0 & 0 & 0 & 0\\\\\n",
    "\\end{bmatrix}{}\n",
    "$$"
   ]
  },
  {
   "cell_type": "markdown",
   "metadata": {},
   "source": [
    "**c.** *Max unpooling*, considere que o max pooling correspondente foi feito na seguinte matriz: \n",
    "    \n",
    "$$\n",
    "\\begin{bmatrix}\n",
    "3 & 1 & 1 & 4\\\\\n",
    "2 & 1 & 3 & 2\\\\\n",
    "3 & 7 & 1 & 7\\\\\n",
    "3 & 2 & 2 & 4\\\\\n",
    "\\end{bmatrix}{}\n",
    "$$"
   ]
  },
  {
   "cell_type": "markdown",
   "metadata": {},
   "source": [
    "$$\n",
    "\\begin{bmatrix}\n",
    "5 & 0 & 0 & 6\\\\\n",
    "0 & 0 & 0 & 0\\\\\n",
    "0 & 3 & 0 & 2\\\\\n",
    "0 & 0 & 0 & 0\\\\\n",
    "\\end{bmatrix}{}\n",
    "$$"
   ]
  },
  {
   "cell_type": "markdown",
   "metadata": {},
   "source": [
    "**d.** Faça o upsampling para uma saída $3 \\times 3$ através da convolução transposta com *padding*=0 e *stride*=1, considerando o seguinte filtro: \n",
    "$$\n",
    "\\begin{bmatrix}\n",
    "0 & 1 \\\\\n",
    "2 & 3\n",
    "\\end{bmatrix}{}\n",
    "$$"
   ]
  },
  {
   "cell_type": "markdown",
   "metadata": {},
   "source": [
    "$$\n",
    "\\begin{bmatrix}\n",
    "0 & 5 & 6 \\\\\n",
    "10 & 30 & 20 \\\\\n",
    "6 & 13 & 6 \\\\ \n",
    "\\end{bmatrix}{}\n",
    "$$"
   ]
  }
 ],
 "metadata": {
  "language_info": {
   "name": "python"
  }
 },
 "nbformat": 4,
 "nbformat_minor": 2
}
