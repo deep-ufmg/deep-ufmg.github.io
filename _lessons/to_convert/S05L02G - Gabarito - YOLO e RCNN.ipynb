{
 "cells": [
  {
   "cell_type": "markdown",
   "metadata": {},
   "source": [
    "# Lista Teórica 02 - YOLO e RCNN "
   ]
  },
  {
   "cell_type": "markdown",
   "metadata": {},
   "source": []
  },
  {
   "cell_type": "markdown",
   "metadata": {},
   "source": [
    "## 1. YOLO"
   ]
  },
  {
   "cell_type": "markdown",
   "metadata": {},
   "source": [
    "**1)** No algoritmo YOLO, em tempo de treinamento, como ocorre a detecção do objeto caso ele esteja em mais de uma célula do grid da imagem?"
   ]
  },
  {
   "cell_type": "markdown",
   "metadata": {},
   "source": [
    "Apenas uma célula - a que contém o centro/ponto médio de um objeto - é responsável por detectar esse objeto, já a anchor box vai além dos limites do grid."
   ]
  },
  {
   "cell_type": "markdown",
   "metadata": {},
   "source": [
    "---"
   ]
  },
  {
   "cell_type": "markdown",
   "metadata": {},
   "source": [
    "**2)** Suponha que você esteja usando o YOLO com uma grade $19 \\times 19$, em um problema de detecção com 20 classes e 5 anchor boxes. Qual é a dimensão do volume de saída da rede?"
   ]
  },
  {
   "cell_type": "markdown",
   "metadata": {},
   "source": [
    "Dimensão do volume de saída = (Tamanho da grade) $\\times$ (Tamanho da grade) $\\times$ (Número de Anchor Boxes $\\times$ (5 + Número de Classes)). Dimensão final: $ 19\\times19\\times(5\\times25) $, onde: $19\\times19$ para cada quadrado da grade analisada, 5 é a quantidade de anchor boxes, e 25 se refere a 20 classes mais 5 dimensões para $p_c, b_x,b_y, b_h, h_w$."
   ]
  },
  {
   "cell_type": "markdown",
   "metadata": {},
   "source": [
    "---"
   ]
  },
  {
   "cell_type": "markdown",
   "metadata": {},
   "source": [
    "**3)** Sabendo que o Yolo é consideravelmente mais rápido que a R-CNN, Fast R-CNN e a Faster R-CNN, por que ele não é o mais utilizado em todos os cenários? Quais são os seus problemas?"
   ]
  },
  {
   "cell_type": "markdown",
   "metadata": {},
   "source": [
    "Alguns problemas do YOLO são: \n",
    "- Dificuldade de detectar objetos pequenos devido à limitação do grid;\n",
    "- detecção de aspectos com proporções distorcidas;\n",
    "- ponderar de forma igual erro em bounding boxes grandes e pequenas."
   ]
  },
  {
   "cell_type": "markdown",
   "metadata": {},
   "source": [
    "---"
   ]
  },
  {
   "cell_type": "markdown",
   "metadata": {},
   "source": [
    "**4)** Por que o YOLO não consegue detectar diferentes objetos muito próximos?"
   ]
  },
  {
   "cell_type": "markdown",
   "metadata": {},
   "source": [
    " No YOLO, ainda que depois de realizar a divisão da imagem em um grid sejam preditas $B$ bounding boxes cada uma com seu score de confiança, se a interseção entre essas caixas não for muito pequena, apenas um objeto será detectado."
   ]
  },
  {
   "cell_type": "markdown",
   "metadata": {},
   "source": [
    "---"
   ]
  },
  {
   "cell_type": "markdown",
   "metadata": {},
   "source": [
    "**5)** Qual a vantagem de se utilizar múltiplas Anchor Boxes em detecção de objetos?"
   ]
  },
  {
   "cell_type": "markdown",
   "metadata": {},
   "source": [
    "O uso de múltiplas anchor boxes permite que uma rede detecte vários objetos, objetos de diferentes escalas e objetos sobrepostos."
   ]
  },
  {
   "cell_type": "markdown",
   "metadata": {},
   "source": [
    "---"
   ]
  },
  {
   "cell_type": "markdown",
   "metadata": {},
   "source": [
    "**6)** Cite duas formas de escolher Anchor Boxes e qual é a vantagem de cada uma delas."
   ]
  },
  {
   "cell_type": "markdown",
   "metadata": {},
   "source": [
    "O primeiro modo é manualmente, a vantagem é que é um método simples. O segundo modo é utilizar o algoritmo k-means, a vantagem é que as caixas serão mais adequadas aos dados."
   ]
  },
  {
   "cell_type": "markdown",
   "metadata": {},
   "source": [
    "---"
   ]
  },
  {
   "cell_type": "markdown",
   "metadata": {},
   "source": [
    "## 2. R-CNN"
   ]
  },
  {
   "cell_type": "markdown",
   "metadata": {},
   "source": [
    "**7)** Suponha que você esteja aplicando um classificador de janelas deslizantes (implementação não-convolucional). Quais são as consequências de aumentar o stride em termos de acurácia e custo computacional? Qual seria uma boa alternativa para o uso de janelas deslizantes?"
   ]
  },
  {
   "cell_type": "markdown",
   "metadata": {},
   "source": [
    "Aumentar o stride aumenta a eficiência computacional, porém diminui a acurácia. Duas possíveis alternativas são: implementação convolucional de sliding window ou não classificar todas as regiões (region propposal)."
   ]
  },
  {
   "cell_type": "markdown",
   "metadata": {},
   "source": [
    "---"
   ]
  },
  {
   "cell_type": "markdown",
   "metadata": {},
   "source": [
    "**8)** Qual a principal diferença entre o método R-CNN e o Fast R-CNN. Qual é a vantagem de utilizar o último em relação ao primeiro?"
   ]
  },
  {
   "cell_type": "markdown",
   "metadata": {},
   "source": [
    "O R-CNN usa o algoritmo de segmentação selective search para propor regiões de interesse, i.e. regiões que possivelmente contém um objeto. Cada uma dessas regiões é achatada (warped) e passada por uma rede convolucional para obter um mapa de features correspondente (um processo muito custoso).\n",
    "\n",
    "O Fast R-CNN passa a imagem uma única vez pela ConvNet, obtendo um mapa de features. As regiões selecionadas a partir da imagem pelo Selective Search são então \"recortadas\" no mapa de features e, em seguida, tem sua dimensão reduzida através da operação de RoI Pooling. Passar a imagem uma única vez pela ConvNet reduz substancialmente o tempo da detecção de objetos."
   ]
  },
  {
   "cell_type": "markdown",
   "metadata": {},
   "source": [
    "---"
   ]
  },
  {
   "cell_type": "markdown",
   "metadata": {},
   "source": [
    "**9)** Qual a principalmente diferença entre a Fast R-CNN e a Faster R-CNN?"
   ]
  },
  {
   "cell_type": "markdown",
   "metadata": {},
   "source": [
    "O gargalo da Fast R-CNN é a proposta de regiões através do selective search. O Faster R-CNN usa uma rede convolucional para propor regiões (region proposal network ou RPN), que pode ser vista como uma rede cujo papel é determinar se há um objeto centrado em um determinado pixel. Isto torna a Faster R-CNN bem mais eficiente."
   ]
  },
  {
   "cell_type": "markdown",
   "metadata": {},
   "source": [
    "----"
   ]
  },
  {
   "cell_type": "markdown",
   "metadata": {},
   "source": [
    "**10)** Qual o objetivo da camada de \"RoI Pooling\"? Porque ela é necessária em arquiteturas que utilizam de abordagens baseadas em regiões?"
   ]
  },
  {
   "cell_type": "markdown",
   "metadata": {},
   "source": [
    "O \"RoI Pooling\" transforma regiões propostas de tamanhos diferentes em uma lista de matrizes com o mesmo tamanho. Isso torna possível utilizar redes convolucionais para classificar as regiões."
   ]
  }
 ],
 "metadata": {
  "language_info": {
   "name": "python"
  }
 },
 "nbformat": 4,
 "nbformat_minor": 2
}
